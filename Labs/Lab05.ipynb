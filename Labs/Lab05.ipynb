{
  "nbformat": 4,
  "nbformat_minor": 0,
  "metadata": {
    "colab": {
      "name": "Untitled1.ipynb",
      "provenance": [],
      "authorship_tag": "ABX9TyMnQSz+3esXrKpIRmmz1+ny",
      "include_colab_link": true
    },
    "kernelspec": {
      "name": "python3",
      "display_name": "Python 3"
    },
    "language_info": {
      "name": "python"
    }
  },
  "cells": [
    {
      "cell_type": "markdown",
      "metadata": {
        "id": "view-in-github",
        "colab_type": "text"
      },
      "source": [
        "<a href=\"https://colab.research.google.com/github/HuynhPhamNhatNam/DataAnalystAndDeepLearning/blob/main/Labs/Lab05.ipynb\" target=\"_parent\"><img src=\"https://colab.research.google.com/assets/colab-badge.svg\" alt=\"Open In Colab\"/></a>"
      ]
    },
    {
      "cell_type": "markdown",
      "metadata": {
        "id": "XVlEoNMZYD8S"
      },
      "source": [
        "# **Ví dụ**\n",
        "\n",
        "---\n",
        "\n"
      ]
    },
    {
      "cell_type": "markdown",
      "metadata": {
        "id": "6TV87VVLYVEp"
      },
      "source": [
        "# **Mean - Mode - Median**\n",
        "\n"
      ]
    },
    {
      "cell_type": "markdown",
      "metadata": {
        "id": "fsVvQzzWYZ_A"
      },
      "source": [
        "**Thí dụ 1:**"
      ]
    },
    {
      "cell_type": "code",
      "metadata": {
        "colab": {
          "base_uri": "https://localhost:8080/"
        },
        "id": "mPjkKFzHYDhL",
        "outputId": "97712d07-58fa-402c-b969-dd509082ff80"
      },
      "source": [
        "from scipy import stats\n",
        "speed = [99, 86, 87, 88, 111, 86, 103, 87, 94, 78, 77, 85, 86]\n",
        "mode = stats.mode(speed)\n",
        "\n",
        "print(mode)"
      ],
      "execution_count": 1,
      "outputs": [
        {
          "output_type": "stream",
          "name": "stdout",
          "text": [
            "ModeResult(mode=array([86]), count=array([3]))\n"
          ]
        }
      ]
    },
    {
      "cell_type": "markdown",
      "metadata": {
        "id": "rAYqOCxKYkPB"
      },
      "source": [
        "**Median** - The median value is the value in the middle, after you have sorted all the values: 77, 78, 85, 86, 86, 86, 87, 87, 88, 94, 99, 103, 111"
      ]
    },
    {
      "cell_type": "markdown",
      "metadata": {
        "id": "U3EnjE80Yq8G"
      },
      "source": [
        "**Thí dụ 2:**"
      ]
    },
    {
      "cell_type": "code",
      "metadata": {
        "colab": {
          "base_uri": "https://localhost:8080/"
        },
        "id": "hStFlRHIY2Ji",
        "outputId": "ec3454d7-d8ee-4126-cbff-1da259b37c71"
      },
      "source": [
        "import numpy\n",
        "\n",
        "speed = [99, 86, 87, 88, 111, 86, 103, 87, 94, 78, 77, 85, 86]\n",
        "\n",
        "median = numpy.median(speed)\n",
        "\n",
        "print(median)"
      ],
      "execution_count": 2,
      "outputs": [
        {
          "output_type": "stream",
          "name": "stdout",
          "text": [
            "87.0\n"
          ]
        }
      ]
    },
    {
      "cell_type": "markdown",
      "metadata": {
        "id": "7bOksKdMY6ya"
      },
      "source": [
        "**Mean**\n",
        "The mean value is the average value. To calculate the mean, find the sum of all values, and divide the sum by the number of values: (99+86+87+88+111+86+103+87+94+78+77+85+86) / 13 = 89.77"
      ]
    },
    {
      "cell_type": "markdown",
      "metadata": {
        "id": "5Ucdl5LoYwVh"
      },
      "source": [
        "**Thí dụ 3:**"
      ]
    },
    {
      "cell_type": "code",
      "metadata": {
        "colab": {
          "base_uri": "https://localhost:8080/"
        },
        "id": "gYzmb0RrY-Dy",
        "outputId": "28632871-54c9-4f39-b75f-64f6e0084755"
      },
      "source": [
        "import numpy\n",
        "\n",
        "speed = [99, 86, 87, 88, 111, 86, 103, 87, 94, 78, 77, 85, 86]\n",
        "\n",
        "mean = numpy.mean(speed)\n",
        "\n",
        "print(mean)"
      ],
      "execution_count": 3,
      "outputs": [
        {
          "output_type": "stream",
          "name": "stdout",
          "text": [
            "89.76923076923077\n"
          ]
        }
      ]
    },
    {
      "cell_type": "markdown",
      "metadata": {
        "id": "bYUpPl2jZFiA"
      },
      "source": [
        "**Nhận xét:**\n",
        "1. Mean = Median = Mode ==> Tập dữ liệu có hình dạng phân phối chuẩn (symmetrical distribution)\n",
        "2. Mode > Median > Mean ==> Dạng phân phối theo khuynh hướng Negative (Left-Skewed)\n",
        "3. Mean > Median > Mode ==> Dạng phân phối theo khuynh hướng Positive (Right-Skewed)"
      ]
    },
    {
      "cell_type": "markdown",
      "metadata": {
        "id": "TOu_kDHDYyHF"
      },
      "source": [
        "**Thí dụ 4:** Dùng đồ thị Histogram, đồ thị boxplot và các độ đo thống kê để khảo sát hình dạng phân phối"
      ]
    },
    {
      "cell_type": "code",
      "metadata": {
        "id": "tH3sA-jVZRDJ"
      },
      "source": [
        "import pandas as pd\n",
        "dulieuxettuyen = pd.read_csv(\"https://raw.githubusercontent.com/huynhhoc/DataAnalystDeepLearning/main/Data/dulieuxettuyendaihoc.csv\")"
      ],
      "execution_count": 4,
      "outputs": []
    },
    {
      "cell_type": "code",
      "metadata": {
        "id": "qgy20keAZSjR"
      },
      "source": [
        "import seaborn as sns\n"
      ],
      "execution_count": 5,
      "outputs": []
    },
    {
      "cell_type": "code",
      "metadata": {
        "colab": {
          "base_uri": "https://localhost:8080/",
          "height": 386
        },
        "id": "7VW-9DxnZUYo",
        "outputId": "87058073-1da7-467a-a52b-6e405b74fc66"
      },
      "source": [
        "sns.displot(dulieuxettuyen, x=\"T1\", kde=True)"
      ],
      "execution_count": 7,
      "outputs": [
        {
          "output_type": "execute_result",
          "data": {
            "text/plain": [
              "<seaborn.axisgrid.FacetGrid at 0x7f708a3f0a90>"
            ]
          },
          "metadata": {},
          "execution_count": 7
        },
        {
          "output_type": "display_data",
          "data": {
            "image/png": "[encoded data removed]",
            "text/plain": [
              "<Figure size 360x360 with 1 Axes>"
            ]
          },
          "metadata": {
            "needs_background": "light"
          }
        }
      ]
    },
    {
      "cell_type": "code",
      "metadata": {
        "colab": {
          "base_uri": "https://localhost:8080/",
          "height": 296
        },
        "id": "2_TVitvGZWVJ",
        "outputId": "a31200e3-b559-4c98-bc12-30177c5ce1d4"
      },
      "source": [
        "sns.boxplot(x='T1', data = dulieuxettuyen)\n"
      ],
      "execution_count": 6,
      "outputs": [
        {
          "output_type": "execute_result",
          "data": {
            "text/plain": [
              "<matplotlib.axes._subplots.AxesSubplot at 0x7f708a4011d0>"
            ]
          },
          "metadata": {},
          "execution_count": 6
        },
        {
          "output_type": "display_data",
          "data": {
            "image/png": "[encoded data removed]",
            "text/plain": [
              "<Figure size 432x288 with 1 Axes>"
            ]
          },
          "metadata": {
            "needs_background": "light"
          }
        }
      ]
    },
    {
      "cell_type": "markdown",
      "metadata": {
        "id": "HyVwYIiqZXbJ"
      },
      "source": [
        "Dựa vào histogram ta có thể thấy hình dạng phân phối của T1 có dạng xấp xỉ đối xứng, nhưng đồ thị boxplot ta lại thấy phân phối của T1 hơi lệch trái. Ta dùng thêm các đặc trưng số của T1 để có thêm thông tin\n",
        "\n"
      ]
    },
    {
      "cell_type": "code",
      "metadata": {
        "id": "2E5Smkz5ZZUB"
      },
      "source": [
        "mean = dulieuxettuyen['T1'].mean()\n",
        "mode = dulieuxettuyen['T1'].mode()\n",
        "median = dulieuxettuyen['T1'].median()"
      ],
      "execution_count": 8,
      "outputs": []
    },
    {
      "cell_type": "code",
      "metadata": {
        "colab": {
          "base_uri": "https://localhost:8080/"
        },
        "id": "JUTWwQ07ZaRo",
        "outputId": "bf5b4329-e873-4c8c-85e6-248032d00381"
      },
      "source": [
        "print ('mean= ', mean)\n",
        "print ('median= ', median)"
      ],
      "execution_count": 9,
      "outputs": [
        {
          "output_type": "stream",
          "name": "stdout",
          "text": [
            "mean=  5.946000000000001\n",
            "median=  5.85\n"
          ]
        }
      ]
    },
    {
      "cell_type": "code",
      "metadata": {
        "colab": {
          "base_uri": "https://localhost:8080/"
        },
        "id": "T71j_x3DZbNZ",
        "outputId": "7015f504-992e-4b5a-bc92-33396ec9d246"
      },
      "source": [
        "print ('mode = ', mode)\n"
      ],
      "execution_count": 10,
      "outputs": [
        {
          "output_type": "stream",
          "name": "stdout",
          "text": [
            "mode=  0    5.2\n",
            "1    5.3\n",
            "2    7.3\n",
            "dtype: float64\n"
          ]
        }
      ]
    },
    {
      "cell_type": "markdown",
      "metadata": {
        "id": "WzXspgvmZeIg"
      },
      "source": [
        "Giá trị mode chỉ là 5.2; 5.3; 7.3. Biến T1 là biến ngẫu nhiên nhận các giá trị liên tục, nên Mode ở đây được hiểu là khoảng chứa dữ liệu nhiều nhất, cụ thể mode ở đây phải thuộc khoảng từ 5.2 đến 7.3. Cho nên ta vẫn có thể dựa vào Mean, Media để đưa ra kết luận là hình dáng phân phối của biến T1.\n",
        "\n",
        "Ta thấy **Mean > Median** nên hình dáng phân phối của T1 là lệch phải"
      ]
    },
    {
      "cell_type": "markdown",
      "metadata": {
        "id": "rPltWuVjZlMY"
      },
      "source": [
        "# **Skewness và Kurtosis**\n"
      ]
    },
    {
      "cell_type": "markdown",
      "metadata": {
        "id": "lIJLUzcxZqNg"
      },
      "source": [
        "**Skewness:** \"Skewness assesses the extent to which a variable’s distribution is symmetrical. If the distribution of responses for a variable stretches toward the right or left tail of the distribution, then the distribution is referred to as skewed (Hair et al., 2017, p. 61).\n",
        "\n",
        "*Skewness đánh giá mức độ mà phân phối của một biến là đối xứng. Nếu phân phối các phản hồi cho một biến số trải dài về phía đuôi bên phải hoặc bên trái của phân phối, thì phân phối được gọi là lệch (Hair và cộng sự, 2017, trang 61).*\n",
        "\n"
      ]
    },
    {
      "cell_type": "markdown",
      "metadata": {
        "id": "Czt4wff8ZqSR"
      },
      "source": [
        "**Kurtosis** is a measure of whether the distribution is too peaked (a very narrow distribution with most of the responses in the center).\" (Hair et al., 2017, p. 61).\n",
        "\n",
        "*Kurtosis là thước đo liệu phân bố có quá đỉnh hay không (phân bố rất hẹp với hầu hết các phản hồi ở trung tâm). \"(Hair và cộng sự, 2017, trang 61).*"
      ]
    },
    {
      "cell_type": "code",
      "metadata": {
        "colab": {
          "base_uri": "https://localhost:8080/"
        },
        "id": "tgd0mMnbZ8zH",
        "outputId": "61e53f9a-c389-40a9-da7f-e6297fb3c7a1"
      },
      "source": [
        "from scipy.stats import skew\n",
        "skew(dulieuxettuyen['T1'], bias=False)"
      ],
      "execution_count": 11,
      "outputs": [
        {
          "output_type": "execute_result",
          "data": {
            "text/plain": [
              "-0.17824317486762223"
            ]
          },
          "metadata": {},
          "execution_count": 11
        }
      ]
    },
    {
      "cell_type": "code",
      "metadata": {
        "colab": {
          "base_uri": "https://localhost:8080/"
        },
        "id": "utjmWAbqZ-O5",
        "outputId": "da7ed4bd-4c67-499e-a6d9-5883616238c6"
      },
      "source": [
        "from scipy.stats import kurtosis\n",
        "kurtosis(dulieuxettuyen['T1'], bias=False)"
      ],
      "execution_count": 12,
      "outputs": [
        {
          "output_type": "execute_result",
          "data": {
            "text/plain": [
              "-0.48010360836580546"
            ]
          },
          "metadata": {},
          "execution_count": 12
        }
      ]
    },
    {
      "cell_type": "markdown",
      "metadata": {
        "id": "jZoIV1EJZ_oY"
      },
      "source": [
        "# **Thực hành**\n",
        "---\n",
        "\n"
      ]
    },
    {
      "cell_type": "markdown",
      "metadata": {
        "id": "U-yO3ResaNlK"
      },
      "source": [
        "**1. Mô tả dữ liệu bằng các giá trị số**\n",
        "\n"
      ]
    },
    {
      "cell_type": "markdown",
      "metadata": {
        "id": "hjaVdK3FaP3g"
      },
      "source": [
        "Bước 1: Tính các đại lượng thống kê cho hai tập dữ liệu\n",
        "\n"
      ]
    },
    {
      "cell_type": "code",
      "metadata": {
        "colab": {
          "base_uri": "https://localhost:8080/",
          "height": 419
        },
        "id": "JQOLuStpaR8I",
        "outputId": "36270e55-17d4-4f1c-b640-72b1d2a1f21c"
      },
      "source": [
        "import pandas as pd\n",
        "dulieu = pd.read_csv('https://raw.githubusercontent.com/huynhhoc/DataAnalystDeepLearning/main/Data/babies.csv', sep='\\s+')\n",
        "dulieu"
      ],
      "execution_count": 13,
      "outputs": [
        {
          "output_type": "execute_result",
          "data": {
            "text/html": [
              "<div>\n",
              "<style scoped>\n",
              "    .dataframe tbody tr th:only-of-type {\n",
              "        vertical-align: middle;\n",
              "    }\n",
              "\n",
              "    .dataframe tbody tr th {\n",
              "        vertical-align: top;\n",
              "    }\n",
              "\n",
              "    .dataframe thead th {\n",
              "        text-align: right;\n",
              "    }\n",
              "</style>\n",
              "<table border=\"1\" class=\"dataframe\">\n",
              "  <thead>\n",
              "    <tr style=\"text-align: right;\">\n",
              "      <th></th>\n",
              "      <th>bwt</th>\n",
              "      <th>smoke</th>\n",
              "    </tr>\n",
              "  </thead>\n",
              "  <tbody>\n",
              "    <tr>\n",
              "      <th>0</th>\n",
              "      <td>120</td>\n",
              "      <td>0</td>\n",
              "    </tr>\n",
              "    <tr>\n",
              "      <th>1</th>\n",
              "      <td>113</td>\n",
              "      <td>0</td>\n",
              "    </tr>\n",
              "    <tr>\n",
              "      <th>2</th>\n",
              "      <td>128</td>\n",
              "      <td>1</td>\n",
              "    </tr>\n",
              "    <tr>\n",
              "      <th>3</th>\n",
              "      <td>123</td>\n",
              "      <td>0</td>\n",
              "    </tr>\n",
              "    <tr>\n",
              "      <th>4</th>\n",
              "      <td>108</td>\n",
              "      <td>1</td>\n",
              "    </tr>\n",
              "    <tr>\n",
              "      <th>...</th>\n",
              "      <td>...</td>\n",
              "      <td>...</td>\n",
              "    </tr>\n",
              "    <tr>\n",
              "      <th>1231</th>\n",
              "      <td>113</td>\n",
              "      <td>0</td>\n",
              "    </tr>\n",
              "    <tr>\n",
              "      <th>1232</th>\n",
              "      <td>128</td>\n",
              "      <td>0</td>\n",
              "    </tr>\n",
              "    <tr>\n",
              "      <th>1233</th>\n",
              "      <td>130</td>\n",
              "      <td>1</td>\n",
              "    </tr>\n",
              "    <tr>\n",
              "      <th>1234</th>\n",
              "      <td>125</td>\n",
              "      <td>0</td>\n",
              "    </tr>\n",
              "    <tr>\n",
              "      <th>1235</th>\n",
              "      <td>117</td>\n",
              "      <td>0</td>\n",
              "    </tr>\n",
              "  </tbody>\n",
              "</table>\n",
              "<p>1236 rows × 2 columns</p>\n",
              "</div>"
            ],
            "text/plain": [
              "      bwt  smoke\n",
              "0     120      0\n",
              "1     113      0\n",
              "2     128      1\n",
              "3     123      0\n",
              "4     108      1\n",
              "...   ...    ...\n",
              "1231  113      0\n",
              "1232  128      0\n",
              "1233  130      1\n",
              "1234  125      0\n",
              "1235  117      0\n",
              "\n",
              "[1236 rows x 2 columns]"
            ]
          },
          "metadata": {},
          "execution_count": 13
        }
      ]
    },
    {
      "cell_type": "code",
      "metadata": {
        "id": "j5a1IRqDaUjx"
      },
      "source": [
        "dl1 = pd.DataFrame(dulieu)\n",
        "dlhutthuoc = dl1[dl1['smoke'] == 1]\n",
        "dlkohutthuoc = dl1[dl1['smoke'] == 0]"
      ],
      "execution_count": 14,
      "outputs": []
    },
    {
      "cell_type": "code",
      "metadata": {
        "id": "CU4zKkXHaWgA"
      },
      "source": [
        "d = {'TH1: Bà mẹ hút thuốc' : pd.Series([dlhutthuoc['bwt'].count(),dlhutthuoc['bwt'].min(),\n",
        "                      dlhutthuoc['bwt'].max(),dlhutthuoc['bwt'].mean(),\n",
        "                      dlhutthuoc['bwt'].std(),dlhutthuoc['bwt'].var(),\n",
        "                      dlhutthuoc['bwt'].median(),dlhutthuoc['bwt'].quantile(.0),\n",
        "                      dlhutthuoc['bwt'].quantile(.25),dlhutthuoc['bwt'].quantile(.5),\n",
        "                      dlhutthuoc['bwt'].quantile(.75),dlhutthuoc['bwt'].quantile(1),\n",
        "                      dlhutthuoc['bwt'].quantile(.75)-dlhutthuoc['bwt'].quantile(.25),\n",
        "                      dlhutthuoc['bwt'].kurtosis()+2.98,dlhutthuoc['bwt'].skew()],\n",
        "                      index=['Số lượng', 'Min', 'Max', 'Mean', 'Sd', 'Var', 'Median', 'Quantile 0%',\n",
        "                             'Quantile 25%', 'Quantile 50%', 'Quantile 75%', 'Quantile 100%', 'IQR',\n",
        "                             'Kurtosis', 'Skewness']),\n",
        "     'TH2: Bà mẹ không hút thuốc' : pd.Series([dlkohutthuoc['bwt'].count(),dlkohutthuoc['bwt'].min(),\n",
        "                      dlkohutthuoc['bwt'].max(),dlkohutthuoc['bwt'].mean(),\n",
        "                      dlkohutthuoc['bwt'].std(),dlkohutthuoc['bwt'].var(),\n",
        "                      dlkohutthuoc['bwt'].median(),dlkohutthuoc['bwt'].quantile(.0),\n",
        "                      dlkohutthuoc['bwt'].quantile(.25),dlkohutthuoc['bwt'].quantile(.5),\n",
        "                      dlkohutthuoc['bwt'].quantile(.75),dlkohutthuoc['bwt'].quantile(1),\n",
        "                      dlkohutthuoc['bwt'].quantile(.75)-dlkohutthuoc['bwt'].quantile(.25),\n",
        "                      dlkohutthuoc['bwt'].kurtosis()+2.98,dlkohutthuoc['bwt'].skew()],\n",
        "                      index=['Số lượng', 'Min', 'Max', 'Mean', 'Sd', 'Var', 'Median', 'Quantile 0%',\n",
        "                             'Quantile 25%', 'Quantile 50%', 'Quantile 75%', 'Quantile 100%', 'IQR',\n",
        "                             'Kurtosis', 'Skewness'])}"
      ],
      "execution_count": 15,
      "outputs": []
    },
    {
      "cell_type": "code",
      "metadata": {
        "colab": {
          "base_uri": "https://localhost:8080/",
          "height": 514
        },
        "id": "dnCOVZ9QarfJ",
        "outputId": "fa441f35-ecb3-455d-d421-dfe9426e833c"
      },
      "source": [
        "dt = pd.DataFrame(d)\n",
        "dt"
      ],
      "execution_count": 16,
      "outputs": [
        {
          "output_type": "execute_result",
          "data": {
            "text/html": [
              "<div>\n",
              "<style scoped>\n",
              "    .dataframe tbody tr th:only-of-type {\n",
              "        vertical-align: middle;\n",
              "    }\n",
              "\n",
              "    .dataframe tbody tr th {\n",
              "        vertical-align: top;\n",
              "    }\n",
              "\n",
              "    .dataframe thead th {\n",
              "        text-align: right;\n",
              "    }\n",
              "</style>\n",
              "<table border=\"1\" class=\"dataframe\">\n",
              "  <thead>\n",
              "    <tr style=\"text-align: right;\">\n",
              "      <th></th>\n",
              "      <th>TH1: Bà mẹ hút thuốc</th>\n",
              "      <th>TH2: Bà mẹ không hút thuốc</th>\n",
              "    </tr>\n",
              "  </thead>\n",
              "  <tbody>\n",
              "    <tr>\n",
              "      <th>Số lượng</th>\n",
              "      <td>484.000000</td>\n",
              "      <td>742.000000</td>\n",
              "    </tr>\n",
              "    <tr>\n",
              "      <th>Min</th>\n",
              "      <td>58.000000</td>\n",
              "      <td>55.000000</td>\n",
              "    </tr>\n",
              "    <tr>\n",
              "      <th>Max</th>\n",
              "      <td>163.000000</td>\n",
              "      <td>176.000000</td>\n",
              "    </tr>\n",
              "    <tr>\n",
              "      <th>Mean</th>\n",
              "      <td>114.109504</td>\n",
              "      <td>123.047170</td>\n",
              "    </tr>\n",
              "    <tr>\n",
              "      <th>Sd</th>\n",
              "      <td>18.098946</td>\n",
              "      <td>17.398689</td>\n",
              "    </tr>\n",
              "    <tr>\n",
              "      <th>Var</th>\n",
              "      <td>327.571835</td>\n",
              "      <td>302.714371</td>\n",
              "    </tr>\n",
              "    <tr>\n",
              "      <th>Median</th>\n",
              "      <td>115.000000</td>\n",
              "      <td>123.000000</td>\n",
              "    </tr>\n",
              "    <tr>\n",
              "      <th>Quantile 0%</th>\n",
              "      <td>58.000000</td>\n",
              "      <td>55.000000</td>\n",
              "    </tr>\n",
              "    <tr>\n",
              "      <th>Quantile 25%</th>\n",
              "      <td>102.000000</td>\n",
              "      <td>113.000000</td>\n",
              "    </tr>\n",
              "    <tr>\n",
              "      <th>Quantile 50%</th>\n",
              "      <td>115.000000</td>\n",
              "      <td>123.000000</td>\n",
              "    </tr>\n",
              "    <tr>\n",
              "      <th>Quantile 75%</th>\n",
              "      <td>126.000000</td>\n",
              "      <td>134.000000</td>\n",
              "    </tr>\n",
              "    <tr>\n",
              "      <th>Quantile 100%</th>\n",
              "      <td>163.000000</td>\n",
              "      <td>176.000000</td>\n",
              "    </tr>\n",
              "    <tr>\n",
              "      <th>IQR</th>\n",
              "      <td>24.000000</td>\n",
              "      <td>21.000000</td>\n",
              "    </tr>\n",
              "    <tr>\n",
              "      <th>Kurtosis</th>\n",
              "      <td>2.980408</td>\n",
              "      <td>4.032213</td>\n",
              "    </tr>\n",
              "    <tr>\n",
              "      <th>Skewness</th>\n",
              "      <td>-0.033700</td>\n",
              "      <td>-0.187363</td>\n",
              "    </tr>\n",
              "  </tbody>\n",
              "</table>\n",
              "</div>"
            ],
            "text/plain": [
              "               TH1: Bà mẹ hút thuốc  TH2: Bà mẹ không hút thuốc\n",
              "Số lượng                 484.000000                  742.000000\n",
              "Min                       58.000000                   55.000000\n",
              "Max                      163.000000                  176.000000\n",
              "Mean                     114.109504                  123.047170\n",
              "Sd                        18.098946                   17.398689\n",
              "Var                      327.571835                  302.714371\n",
              "Median                   115.000000                  123.000000\n",
              "Quantile 0%               58.000000                   55.000000\n",
              "Quantile 25%             102.000000                  113.000000\n",
              "Quantile 50%             115.000000                  123.000000\n",
              "Quantile 75%             126.000000                  134.000000\n",
              "Quantile 100%            163.000000                  176.000000\n",
              "IQR                       24.000000                   21.000000\n",
              "Kurtosis                   2.980408                    4.032213\n",
              "Skewness                  -0.033700                   -0.187363"
            ]
          },
          "metadata": {},
          "execution_count": 16
        }
      ]
    },
    {
      "cell_type": "markdown",
      "metadata": {
        "id": "LQbCqaxXavXo"
      },
      "source": [
        "Bước 2: Phân tích dữ liệu dựa trên các đại lượng vừa tính\n",
        "\n"
      ]
    },
    {
      "cell_type": "code",
      "metadata": {
        "colab": {
          "base_uri": "https://localhost:8080/",
          "height": 173
        },
        "id": "s23oU3XoaxIx",
        "outputId": "141222fc-1f11-4e28-d9e4-dfe01a5c0ef7"
      },
      "source": [
        "d1 =pd.DataFrame({'TH1: Bà mẹ hút thuốc' : pd.Series([dlhutthuoc['bwt'].std(skipna=True),dlhutthuoc['bwt'].var(skipna=True),\n",
        "                                         dlhutthuoc['bwt'].max()-dlhutthuoc['bwt'].min(),\n",
        "                                         dlhutthuoc['bwt'].quantile(.75)-dlhutthuoc['bwt'].quantile(.25)],\n",
        "                                         index=['Sd', 'Var', 'Range', 'IQR']),\n",
        "      'TH2: Bà mẹ không hút thuốc' : pd.Series([dlkohutthuoc['bwt'].std(skipna=True),dlkohutthuoc['bwt'].var(skipna=True),\n",
        "                                         dlkohutthuoc['bwt'].max()-dlkohutthuoc['bwt'].min(),\n",
        "                                         dlkohutthuoc['bwt'].quantile(.75)-dlkohutthuoc['bwt'].quantile(.25)],\n",
        "                                         index=['Sd', 'Var', 'Range', 'IQR'])})\n",
        "d1['Chênh lệch (TH2-TH1)'] = d1['TH2: Bà mẹ không hút thuốc']-d1['TH1: Bà mẹ hút thuốc']\n",
        "d1"
      ],
      "execution_count": 17,
      "outputs": [
        {
          "output_type": "execute_result",
          "data": {
            "text/html": [
              "<div>\n",
              "<style scoped>\n",
              "    .dataframe tbody tr th:only-of-type {\n",
              "        vertical-align: middle;\n",
              "    }\n",
              "\n",
              "    .dataframe tbody tr th {\n",
              "        vertical-align: top;\n",
              "    }\n",
              "\n",
              "    .dataframe thead th {\n",
              "        text-align: right;\n",
              "    }\n",
              "</style>\n",
              "<table border=\"1\" class=\"dataframe\">\n",
              "  <thead>\n",
              "    <tr style=\"text-align: right;\">\n",
              "      <th></th>\n",
              "      <th>TH1: Bà mẹ hút thuốc</th>\n",
              "      <th>TH2: Bà mẹ không hút thuốc</th>\n",
              "      <th>Chênh lệch (TH2-TH1)</th>\n",
              "    </tr>\n",
              "  </thead>\n",
              "  <tbody>\n",
              "    <tr>\n",
              "      <th>Sd</th>\n",
              "      <td>18.098946</td>\n",
              "      <td>17.398689</td>\n",
              "      <td>-0.700257</td>\n",
              "    </tr>\n",
              "    <tr>\n",
              "      <th>Var</th>\n",
              "      <td>327.571835</td>\n",
              "      <td>302.714371</td>\n",
              "      <td>-24.857464</td>\n",
              "    </tr>\n",
              "    <tr>\n",
              "      <th>Range</th>\n",
              "      <td>105.000000</td>\n",
              "      <td>121.000000</td>\n",
              "      <td>16.000000</td>\n",
              "    </tr>\n",
              "    <tr>\n",
              "      <th>IQR</th>\n",
              "      <td>24.000000</td>\n",
              "      <td>21.000000</td>\n",
              "      <td>-3.000000</td>\n",
              "    </tr>\n",
              "  </tbody>\n",
              "</table>\n",
              "</div>"
            ],
            "text/plain": [
              "       TH1: Bà mẹ hút thuốc  TH2: Bà mẹ không hút thuốc  Chênh lệch (TH2-TH1)\n",
              "Sd                18.098946                   17.398689             -0.700257\n",
              "Var              327.571835                  302.714371            -24.857464\n",
              "Range            105.000000                  121.000000             16.000000\n",
              "IQR               24.000000                   21.000000             -3.000000"
            ]
          },
          "metadata": {},
          "execution_count": 17
        }
      ]
    },
    {
      "cell_type": "code",
      "metadata": {
        "colab": {
          "base_uri": "https://localhost:8080/",
          "height": 111
        },
        "id": "tLgPSMqua2A5",
        "outputId": "1af4de46-7e32-49ee-f090-43665b2d685d"
      },
      "source": [
        "d2 = pd.DataFrame({'TH1: Bà mẹ hút thuốc' : pd.Series([dlhutthuoc['bwt'].skew(), dlhutthuoc['bwt'].kurtosis() + 2.98],\n",
        "                   index = ['Skewness', 'Kurtosis']),\n",
        "                   'TH2: Bà mẹ không hút thuốc' : pd.Series([dlkohutthuoc['bwt'].skew(), dlkohutthuoc['bwt'].kurtosis() + 2.98],\n",
        "                   index = ['Skewness', 'Kurtosis'])})\n",
        "d2['Chênh lệch (TH2-TH1)'] = d2['TH2: Bà mẹ không hút thuốc'] - d2['TH1: Bà mẹ hút thuốc']\n",
        "d2"
      ],
      "execution_count": 18,
      "outputs": [
        {
          "output_type": "execute_result",
          "data": {
            "text/html": [
              "<div>\n",
              "<style scoped>\n",
              "    .dataframe tbody tr th:only-of-type {\n",
              "        vertical-align: middle;\n",
              "    }\n",
              "\n",
              "    .dataframe tbody tr th {\n",
              "        vertical-align: top;\n",
              "    }\n",
              "\n",
              "    .dataframe thead th {\n",
              "        text-align: right;\n",
              "    }\n",
              "</style>\n",
              "<table border=\"1\" class=\"dataframe\">\n",
              "  <thead>\n",
              "    <tr style=\"text-align: right;\">\n",
              "      <th></th>\n",
              "      <th>TH1: Bà mẹ hút thuốc</th>\n",
              "      <th>TH2: Bà mẹ không hút thuốc</th>\n",
              "      <th>Chênh lệch (TH2-TH1)</th>\n",
              "    </tr>\n",
              "  </thead>\n",
              "  <tbody>\n",
              "    <tr>\n",
              "      <th>Skewness</th>\n",
              "      <td>-0.033700</td>\n",
              "      <td>-0.187363</td>\n",
              "      <td>-0.153664</td>\n",
              "    </tr>\n",
              "    <tr>\n",
              "      <th>Kurtosis</th>\n",
              "      <td>2.980408</td>\n",
              "      <td>4.032213</td>\n",
              "      <td>1.051805</td>\n",
              "    </tr>\n",
              "  </tbody>\n",
              "</table>\n",
              "</div>"
            ],
            "text/plain": [
              "          TH1: Bà mẹ hút thuốc  ...  Chênh lệch (TH2-TH1)\n",
              "Skewness             -0.033700  ...             -0.153664\n",
              "Kurtosis              2.980408  ...              1.051805\n",
              "\n",
              "[2 rows x 3 columns]"
            ]
          },
          "metadata": {},
          "execution_count": 18
        }
      ]
    },
    {
      "cell_type": "markdown",
      "metadata": {
        "id": "w7LcVOgia--x"
      },
      "source": [
        "**Nhận xét:** trường hợp bà mẹ hút thuốc có phân bố dữ liệu nhọn hơn, đối xứng hơn so với trường hợp không hút thuốc. Cả 2 trường hợp đều hơi lệch về trái.\n",
        "\n"
      ]
    },
    {
      "cell_type": "markdown",
      "metadata": {
        "id": "_Qo4BgBqbBhh"
      },
      "source": [
        "**2. Biểu diễn hình học của dữ liệu**\n",
        "\n"
      ]
    },
    {
      "cell_type": "markdown",
      "metadata": {
        "id": "KmP7cSsMbFSx"
      },
      "source": [
        "**2-1. Dữ liệu cân nặng của trẻ trong trường hợp bà mẹ hút thuốc và bà mẹ không hút thuốc**"
      ]
    },
    {
      "cell_type": "markdown",
      "metadata": {
        "id": "fd0B5pIqbJKB"
      },
      "source": [
        "Histogram trong trường hợp bà mẹ không hút thuốc\n",
        "\n"
      ]
    },
    {
      "cell_type": "code",
      "metadata": {
        "colab": {
          "base_uri": "https://localhost:8080/",
          "height": 282
        },
        "id": "ynScGXG_bJgq",
        "outputId": "e586b3c2-6928-4bad-8789-bbb9a5841da3"
      },
      "source": [
        "dlhutthuoc['bwt'].plot.hist(bins=12)\n"
      ],
      "execution_count": 19,
      "outputs": [
        {
          "output_type": "execute_result",
          "data": {
            "text/plain": [
              "<matplotlib.axes._subplots.AxesSubplot at 0x7f707d966a10>"
            ]
          },
          "metadata": {},
          "execution_count": 19
        },
        {
          "output_type": "display_data",
          "data": {
            "image/png": "[encoded data removed]",
            "text/plain": [
              "<Figure size 432x288 with 1 Axes>"
            ]
          },
          "metadata": {
            "needs_background": "light"
          }
        }
      ]
    },
    {
      "cell_type": "markdown",
      "metadata": {
        "id": "nbhFx0GAbLda"
      },
      "source": [
        "Boxplot"
      ]
    },
    {
      "cell_type": "code",
      "metadata": {
        "colab": {
          "base_uri": "https://localhost:8080/",
          "height": 318
        },
        "id": "iNQJqAtObNcp",
        "outputId": "70afb115-9e72-41b3-c593-c325fe0289f3"
      },
      "source": [
        "dlhutthuoc.boxplot(column = ['bwt'], by = 'smoke', grid = False)\n"
      ],
      "execution_count": 20,
      "outputs": [
        {
          "output_type": "execute_result",
          "data": {
            "text/plain": [
              "<matplotlib.axes._subplots.AxesSubplot at 0x7f708a3f0b10>"
            ]
          },
          "metadata": {},
          "execution_count": 20
        },
        {
          "output_type": "display_data",
          "data": {
            "image/png": "[encoded data removed]",
            "text/plain": [
              "<Figure size 432x288 with 1 Axes>"
            ]
          },
          "metadata": {
            "needs_background": "light"
          }
        }
      ]
    },
    {
      "cell_type": "markdown",
      "metadata": {
        "id": "5DApUBQibPM5"
      },
      "source": [
        "**2-2. Dữ liệu cân nặng của trẻ trong trường hợp bà mẹ hút thuốc không hút thuốc**"
      ]
    },
    {
      "cell_type": "markdown",
      "metadata": {
        "id": "l1Ajsz9mbTMJ"
      },
      "source": [
        "Histogram trong trường hợp bà mẹ không hút thuốc"
      ]
    },
    {
      "cell_type": "code",
      "metadata": {
        "colab": {
          "base_uri": "https://localhost:8080/",
          "height": 282
        },
        "id": "Vdy9puyebUiZ",
        "outputId": "2c8720bd-cced-4b07-c95e-5af8907350ea"
      },
      "source": [
        "dlkohutthuoc['bwt'].plot.hist(bins=12)\n"
      ],
      "execution_count": 21,
      "outputs": [
        {
          "output_type": "execute_result",
          "data": {
            "text/plain": [
              "<matplotlib.axes._subplots.AxesSubplot at 0x7f707d85c150>"
            ]
          },
          "metadata": {},
          "execution_count": 21
        },
        {
          "output_type": "display_data",
          "data": {
            "image/png": "[encoded data removed]",
            "text/plain": [
              "<Figure size 432x288 with 1 Axes>"
            ]
          },
          "metadata": {
            "needs_background": "light"
          }
        }
      ]
    },
    {
      "cell_type": "markdown",
      "metadata": {
        "id": "TjKWV0xybWIg"
      },
      "source": [
        "Boxplot"
      ]
    },
    {
      "cell_type": "code",
      "metadata": {
        "colab": {
          "base_uri": "https://localhost:8080/",
          "height": 318
        },
        "id": "nAbEF82kbWvx",
        "outputId": "2baf369e-9a2b-4b50-fe2e-43db104c3a23"
      },
      "source": [
        "dlkohutthuoc.boxplot(column = ['bwt'], by = 'smoke', grid = False)\n"
      ],
      "execution_count": 22,
      "outputs": [
        {
          "output_type": "execute_result",
          "data": {
            "text/plain": [
              "<matplotlib.axes._subplots.AxesSubplot at 0x7f707d859ad0>"
            ]
          },
          "metadata": {},
          "execution_count": 22
        },
        {
          "output_type": "display_data",
          "data": {
            "image/png": "[encoded data removed]",
            "text/plain": [
              "<Figure size 432x288 with 1 Axes>"
            ]
          },
          "metadata": {
            "needs_background": "light"
          }
        }
      ]
    }
  ]
}
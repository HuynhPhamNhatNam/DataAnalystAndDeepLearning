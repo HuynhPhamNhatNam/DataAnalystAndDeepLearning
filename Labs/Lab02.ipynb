{
  "nbformat": 4,
  "nbformat_minor": 0,
  "metadata": {
    "colab": {
      "name": "Lab02.ipynb",
      "provenance": [],
      "authorship_tag": "ABX9TyNc4F24G1MMMgEKaSAKeUhG",
      "include_colab_link": true
    },
    "kernelspec": {
      "name": "python3",
      "display_name": "Python 3"
    },
    "language_info": {
      "name": "python"
    }
  },
  "cells": [
    {
      "cell_type": "markdown",
      "metadata": {
        "id": "view-in-github",
        "colab_type": "text"
      },
      "source": [
        "<a href=\"https://colab.research.google.com/github/HuynhPhamNhatNam/DataAnalystAndDeepLearning/blob/main/Labs/Lab02.ipynb\" target=\"_parent\"><img src=\"https://colab.research.google.com/assets/colab-badge.svg\" alt=\"Open In Colab\"/></a>"
      ]
    },
    {
      "cell_type": "markdown",
      "metadata": {
        "id": "xhe79emgptwl"
      },
      "source": [
        "**Phần 1:** Thống kê dữ liệu"
      ]
    },
    {
      "cell_type": "code",
      "metadata": {
        "id": "uq0DNQPrnvSa"
      },
      "source": [
        "import pandas as pd\n",
        "import numpy as np\n",
        "import matplotlib.pyplot as plt"
      ],
      "execution_count": 17,
      "outputs": []
    },
    {
      "cell_type": "code",
      "metadata": {
        "colab": {
          "base_uri": "https://localhost:8080/"
        },
        "id": "UL8rQbyzplye",
        "outputId": "b2cd1182-c4d7-420e-bcd0-8ab421f8822e"
      },
      "source": [
        "import pandas as pd\n",
        "dataframe = pd.read_csv('https://raw.githubusercontent.com/MainIT2810/DataAnalystDeepLearning/master/Data/processed_dulieuxettuyendaihoc.csv')\n",
        "print(dataframe)"
      ],
      "execution_count": 3,
      "outputs": [
        {
          "output_type": "stream",
          "name": "stdout",
          "text": [
            "    STT   T1   L1   H1   S1   V1  ...  XL2  XL3  US_TMN1  US_TMN2  US_TMN3  KQXT\n",
            "0     1  7.2  7.3  6.3  7.3  7.0  ...    K    K    2.800    3.016    2.824   0.0\n",
            "1     2  5.4  3.9  3.9  4.0  5.4  ...   TB    Y    1.876    2.188    1.880   0.0\n",
            "2     3  5.6  6.8  7.2  7.5  4.3  ...   TB    Y    2.308    2.152    1.732   1.0\n",
            "3     4  6.6  6.4  5.3  6.9  5.4  ...   TB   TB    2.484    2.080    2.412   0.0\n",
            "4     5  6.0  5.0  6.0  7.3  6.5  ...   TB    K    2.600    2.544    2.804   0.0\n",
            "..  ...  ...  ...  ...  ...  ...  ...  ...  ...      ...      ...      ...   ...\n",
            "95   96  8.6  6.9  7.4  8.8  7.6  ...    K    K    2.972    2.968    2.816   0.0\n",
            "96   97  3.7  5.4  6.0  5.1  5.5  ...   TB    Y    1.972    2.060    1.912   0.0\n",
            "97   98  8.8  5.5  7.4  7.7  6.2  ...    K    K    2.820    3.136    3.168   1.0\n",
            "98   99  2.7  1.8  3.4  5.3  4.5  ...    Y   TB    1.660    1.888    2.464   0.0\n",
            "99  100  4.1  5.2  4.9  5.3  5.5  ...   TB   TB    2.104    2.288    2.360   0.0\n",
            "\n",
            "[100 rows x 66 columns]\n"
          ]
        }
      ]
    },
    {
      "cell_type": "markdown",
      "metadata": {
        "id": "_zAVT9D2p5M-"
      },
      "source": [
        "1. Hãy sắp xếp dữ liệu điểm DH1 theo thứ tự tăng dần\n"
      ]
    },
    {
      "cell_type": "code",
      "metadata": {
        "colab": {
          "base_uri": "https://localhost:8080/",
          "height": 439
        },
        "id": "ucAqT16Tp47F",
        "outputId": "c82acebd-877f-4a79-a69c-0e12a27841fc"
      },
      "source": [
        "dataframe.sort_values(by = ['DH1'])"
      ],
      "execution_count": 4,
      "outputs": [
        {
          "output_type": "execute_result",
          "data": {
            "text/html": [
              "<div>\n",
              "<style scoped>\n",
              "    .dataframe tbody tr th:only-of-type {\n",
              "        vertical-align: middle;\n",
              "    }\n",
              "\n",
              "    .dataframe tbody tr th {\n",
              "        vertical-align: top;\n",
              "    }\n",
              "\n",
              "    .dataframe thead th {\n",
              "        text-align: right;\n",
              "    }\n",
              "</style>\n",
              "<table border=\"1\" class=\"dataframe\">\n",
              "  <thead>\n",
              "    <tr style=\"text-align: right;\">\n",
              "      <th></th>\n",
              "      <th>STT</th>\n",
              "      <th>T1</th>\n",
              "      <th>L1</th>\n",
              "      <th>H1</th>\n",
              "      <th>S1</th>\n",
              "      <th>V1</th>\n",
              "      <th>X1</th>\n",
              "      <th>D1</th>\n",
              "      <th>N1</th>\n",
              "      <th>T2</th>\n",
              "      <th>L2</th>\n",
              "      <th>H2</th>\n",
              "      <th>S2</th>\n",
              "      <th>V2</th>\n",
              "      <th>X2</th>\n",
              "      <th>D2</th>\n",
              "      <th>N2</th>\n",
              "      <th>T3</th>\n",
              "      <th>L3</th>\n",
              "      <th>H3</th>\n",
              "      <th>S3</th>\n",
              "      <th>V3</th>\n",
              "      <th>X3</th>\n",
              "      <th>D3</th>\n",
              "      <th>N3</th>\n",
              "      <th>T4</th>\n",
              "      <th>L4</th>\n",
              "      <th>H4</th>\n",
              "      <th>S4</th>\n",
              "      <th>V4</th>\n",
              "      <th>X4</th>\n",
              "      <th>D4</th>\n",
              "      <th>N4</th>\n",
              "      <th>T5</th>\n",
              "      <th>L5</th>\n",
              "      <th>H5</th>\n",
              "      <th>S5</th>\n",
              "      <th>V5</th>\n",
              "      <th>X5</th>\n",
              "      <th>D5</th>\n",
              "      <th>N5</th>\n",
              "      <th>T6</th>\n",
              "      <th>L6</th>\n",
              "      <th>H6</th>\n",
              "      <th>S6</th>\n",
              "      <th>V6</th>\n",
              "      <th>X6</th>\n",
              "      <th>D6</th>\n",
              "      <th>N6</th>\n",
              "      <th>GT</th>\n",
              "      <th>DT</th>\n",
              "      <th>KV</th>\n",
              "      <th>DH1</th>\n",
              "      <th>DH2</th>\n",
              "      <th>DH3</th>\n",
              "      <th>KT</th>\n",
              "      <th>TBM1</th>\n",
              "      <th>TBM2</th>\n",
              "      <th>TBM3</th>\n",
              "      <th>XL1</th>\n",
              "      <th>XL2</th>\n",
              "      <th>XL3</th>\n",
              "      <th>US_TMN1</th>\n",
              "      <th>US_TMN2</th>\n",
              "      <th>US_TMN3</th>\n",
              "      <th>KQXT</th>\n",
              "    </tr>\n",
              "  </thead>\n",
              "  <tbody>\n",
              "    <tr>\n",
              "      <th>53</th>\n",
              "      <td>54</td>\n",
              "      <td>4.9</td>\n",
              "      <td>5.9</td>\n",
              "      <td>6.2</td>\n",
              "      <td>5.6</td>\n",
              "      <td>5.9</td>\n",
              "      <td>5.0</td>\n",
              "      <td>7.0</td>\n",
              "      <td>5.6</td>\n",
              "      <td>6.1</td>\n",
              "      <td>7.1</td>\n",
              "      <td>6.4</td>\n",
              "      <td>6.0</td>\n",
              "      <td>6.3</td>\n",
              "      <td>5.5</td>\n",
              "      <td>6.2</td>\n",
              "      <td>6.6</td>\n",
              "      <td>2.5</td>\n",
              "      <td>4.8</td>\n",
              "      <td>5.0</td>\n",
              "      <td>5.0</td>\n",
              "      <td>4.5</td>\n",
              "      <td>2.4</td>\n",
              "      <td>5.8</td>\n",
              "      <td>3.7</td>\n",
              "      <td>6.2</td>\n",
              "      <td>4.1</td>\n",
              "      <td>4.4</td>\n",
              "      <td>5.2</td>\n",
              "      <td>4.1</td>\n",
              "      <td>6.3</td>\n",
              "      <td>4.9</td>\n",
              "      <td>4.6</td>\n",
              "      <td>4.9</td>\n",
              "      <td>5.2</td>\n",
              "      <td>4.9</td>\n",
              "      <td>5.5</td>\n",
              "      <td>5.5</td>\n",
              "      <td>4.6</td>\n",
              "      <td>5.5</td>\n",
              "      <td>5.4</td>\n",
              "      <td>6.5</td>\n",
              "      <td>7.5</td>\n",
              "      <td>6.1</td>\n",
              "      <td>5.6</td>\n",
              "      <td>5.2</td>\n",
              "      <td>5.7</td>\n",
              "      <td>5.6</td>\n",
              "      <td>6.3</td>\n",
              "      <td>M</td>\n",
              "      <td>0.0</td>\n",
              "      <td>1</td>\n",
              "      <td>1.00</td>\n",
              "      <td>5.50</td>\n",
              "      <td>4.25</td>\n",
              "      <td>A</td>\n",
              "      <td>5.69</td>\n",
              "      <td>6.26</td>\n",
              "      <td>4.07</td>\n",
              "      <td>TB</td>\n",
              "      <td>TB</td>\n",
              "      <td>Y</td>\n",
              "      <td>2.276</td>\n",
              "      <td>2.504</td>\n",
              "      <td>1.628</td>\n",
              "      <td>0.0</td>\n",
              "    </tr>\n",
              "    <tr>\n",
              "      <th>43</th>\n",
              "      <td>44</td>\n",
              "      <td>6.6</td>\n",
              "      <td>7.2</td>\n",
              "      <td>5.9</td>\n",
              "      <td>6.9</td>\n",
              "      <td>7.6</td>\n",
              "      <td>8.1</td>\n",
              "      <td>7.3</td>\n",
              "      <td>6.7</td>\n",
              "      <td>6.3</td>\n",
              "      <td>6.9</td>\n",
              "      <td>6.0</td>\n",
              "      <td>6.4</td>\n",
              "      <td>7.0</td>\n",
              "      <td>7.1</td>\n",
              "      <td>6.9</td>\n",
              "      <td>6.2</td>\n",
              "      <td>6.7</td>\n",
              "      <td>7.1</td>\n",
              "      <td>5.4</td>\n",
              "      <td>6.8</td>\n",
              "      <td>6.8</td>\n",
              "      <td>5.9</td>\n",
              "      <td>6.6</td>\n",
              "      <td>6.8</td>\n",
              "      <td>6.0</td>\n",
              "      <td>7.6</td>\n",
              "      <td>6.5</td>\n",
              "      <td>7.6</td>\n",
              "      <td>6.7</td>\n",
              "      <td>7.1</td>\n",
              "      <td>7.9</td>\n",
              "      <td>5.6</td>\n",
              "      <td>5.8</td>\n",
              "      <td>5.9</td>\n",
              "      <td>5.8</td>\n",
              "      <td>4.6</td>\n",
              "      <td>6.6</td>\n",
              "      <td>4.0</td>\n",
              "      <td>6.0</td>\n",
              "      <td>6.2</td>\n",
              "      <td>6.0</td>\n",
              "      <td>7.6</td>\n",
              "      <td>6.5</td>\n",
              "      <td>7.6</td>\n",
              "      <td>6.7</td>\n",
              "      <td>7.1</td>\n",
              "      <td>7.9</td>\n",
              "      <td>5.6</td>\n",
              "      <td>F</td>\n",
              "      <td>1.0</td>\n",
              "      <td>2</td>\n",
              "      <td>1.25</td>\n",
              "      <td>3.50</td>\n",
              "      <td>5.00</td>\n",
              "      <td>D1</td>\n",
              "      <td>7.05</td>\n",
              "      <td>6.61</td>\n",
              "      <td>6.56</td>\n",
              "      <td>K</td>\n",
              "      <td>K</td>\n",
              "      <td>K</td>\n",
              "      <td>2.820</td>\n",
              "      <td>2.644</td>\n",
              "      <td>2.624</td>\n",
              "      <td>0.0</td>\n",
              "    </tr>\n",
              "    <tr>\n",
              "      <th>72</th>\n",
              "      <td>73</td>\n",
              "      <td>5.5</td>\n",
              "      <td>6.6</td>\n",
              "      <td>7.2</td>\n",
              "      <td>7.6</td>\n",
              "      <td>5.5</td>\n",
              "      <td>6.7</td>\n",
              "      <td>6.7</td>\n",
              "      <td>5.2</td>\n",
              "      <td>6.0</td>\n",
              "      <td>6.8</td>\n",
              "      <td>6.3</td>\n",
              "      <td>7.2</td>\n",
              "      <td>4.9</td>\n",
              "      <td>4.8</td>\n",
              "      <td>6.6</td>\n",
              "      <td>5.3</td>\n",
              "      <td>4.6</td>\n",
              "      <td>5.5</td>\n",
              "      <td>5.5</td>\n",
              "      <td>7.1</td>\n",
              "      <td>5.2</td>\n",
              "      <td>6.1</td>\n",
              "      <td>7.1</td>\n",
              "      <td>5.4</td>\n",
              "      <td>5.2</td>\n",
              "      <td>4.7</td>\n",
              "      <td>5.8</td>\n",
              "      <td>6.3</td>\n",
              "      <td>5.7</td>\n",
              "      <td>5.6</td>\n",
              "      <td>5.2</td>\n",
              "      <td>5.3</td>\n",
              "      <td>5.2</td>\n",
              "      <td>5.5</td>\n",
              "      <td>6.3</td>\n",
              "      <td>6.6</td>\n",
              "      <td>6.1</td>\n",
              "      <td>6.5</td>\n",
              "      <td>5.3</td>\n",
              "      <td>5.2</td>\n",
              "      <td>6.1</td>\n",
              "      <td>6.2</td>\n",
              "      <td>7.3</td>\n",
              "      <td>7.8</td>\n",
              "      <td>5.5</td>\n",
              "      <td>5.9</td>\n",
              "      <td>6.3</td>\n",
              "      <td>5.5</td>\n",
              "      <td>M</td>\n",
              "      <td>0.0</td>\n",
              "      <td>1</td>\n",
              "      <td>1.50</td>\n",
              "      <td>4.50</td>\n",
              "      <td>5.50</td>\n",
              "      <td>A</td>\n",
              "      <td>6.20</td>\n",
              "      <td>5.88</td>\n",
              "      <td>5.63</td>\n",
              "      <td>TB</td>\n",
              "      <td>TB</td>\n",
              "      <td>TB</td>\n",
              "      <td>2.480</td>\n",
              "      <td>2.352</td>\n",
              "      <td>2.252</td>\n",
              "      <td>0.0</td>\n",
              "    </tr>\n",
              "    <tr>\n",
              "      <th>5</th>\n",
              "      <td>6</td>\n",
              "      <td>9.3</td>\n",
              "      <td>7.6</td>\n",
              "      <td>7.9</td>\n",
              "      <td>8.6</td>\n",
              "      <td>7.0</td>\n",
              "      <td>7.3</td>\n",
              "      <td>7.7</td>\n",
              "      <td>7.9</td>\n",
              "      <td>9.6</td>\n",
              "      <td>7.8</td>\n",
              "      <td>8.0</td>\n",
              "      <td>8.7</td>\n",
              "      <td>7.7</td>\n",
              "      <td>8.0</td>\n",
              "      <td>9.2</td>\n",
              "      <td>9.1</td>\n",
              "      <td>7.1</td>\n",
              "      <td>8.5</td>\n",
              "      <td>8.1</td>\n",
              "      <td>8.7</td>\n",
              "      <td>7.2</td>\n",
              "      <td>8.4</td>\n",
              "      <td>7.7</td>\n",
              "      <td>8.2</td>\n",
              "      <td>8.5</td>\n",
              "      <td>8.5</td>\n",
              "      <td>7.7</td>\n",
              "      <td>9.2</td>\n",
              "      <td>8.0</td>\n",
              "      <td>6.6</td>\n",
              "      <td>7.3</td>\n",
              "      <td>8.8</td>\n",
              "      <td>8.5</td>\n",
              "      <td>7.6</td>\n",
              "      <td>8.1</td>\n",
              "      <td>9.0</td>\n",
              "      <td>8.4</td>\n",
              "      <td>6.6</td>\n",
              "      <td>6.6</td>\n",
              "      <td>8.2</td>\n",
              "      <td>7.8</td>\n",
              "      <td>6.4</td>\n",
              "      <td>7.2</td>\n",
              "      <td>7.7</td>\n",
              "      <td>7.7</td>\n",
              "      <td>5.7</td>\n",
              "      <td>8.0</td>\n",
              "      <td>7.8</td>\n",
              "      <td>M</td>\n",
              "      <td>0.0</td>\n",
              "      <td>1</td>\n",
              "      <td>1.50</td>\n",
              "      <td>4.00</td>\n",
              "      <td>6.00</td>\n",
              "      <td>D1</td>\n",
              "      <td>7.96</td>\n",
              "      <td>8.54</td>\n",
              "      <td>7.82</td>\n",
              "      <td>K</td>\n",
              "      <td>G</td>\n",
              "      <td>K</td>\n",
              "      <td>3.184</td>\n",
              "      <td>3.416</td>\n",
              "      <td>3.128</td>\n",
              "      <td>0.0</td>\n",
              "    </tr>\n",
              "    <tr>\n",
              "      <th>87</th>\n",
              "      <td>88</td>\n",
              "      <td>7.3</td>\n",
              "      <td>4.3</td>\n",
              "      <td>5.3</td>\n",
              "      <td>5.8</td>\n",
              "      <td>4.9</td>\n",
              "      <td>3.7</td>\n",
              "      <td>5.6</td>\n",
              "      <td>5.3</td>\n",
              "      <td>5.9</td>\n",
              "      <td>6.0</td>\n",
              "      <td>6.3</td>\n",
              "      <td>5.9</td>\n",
              "      <td>5.0</td>\n",
              "      <td>6.6</td>\n",
              "      <td>6.6</td>\n",
              "      <td>4.6</td>\n",
              "      <td>7.1</td>\n",
              "      <td>6.3</td>\n",
              "      <td>7.3</td>\n",
              "      <td>6.7</td>\n",
              "      <td>6.5</td>\n",
              "      <td>5.4</td>\n",
              "      <td>6.7</td>\n",
              "      <td>5.5</td>\n",
              "      <td>7.7</td>\n",
              "      <td>5.4</td>\n",
              "      <td>7.5</td>\n",
              "      <td>7.1</td>\n",
              "      <td>6.8</td>\n",
              "      <td>5.8</td>\n",
              "      <td>6.8</td>\n",
              "      <td>6.5</td>\n",
              "      <td>7.9</td>\n",
              "      <td>5.9</td>\n",
              "      <td>5.9</td>\n",
              "      <td>5.9</td>\n",
              "      <td>5.7</td>\n",
              "      <td>6.1</td>\n",
              "      <td>6.8</td>\n",
              "      <td>6.7</td>\n",
              "      <td>6.6</td>\n",
              "      <td>6.4</td>\n",
              "      <td>6.9</td>\n",
              "      <td>5.7</td>\n",
              "      <td>6.4</td>\n",
              "      <td>6.4</td>\n",
              "      <td>7.2</td>\n",
              "      <td>6.2</td>\n",
              "      <td>M</td>\n",
              "      <td>0.0</td>\n",
              "      <td>1</td>\n",
              "      <td>1.75</td>\n",
              "      <td>4.00</td>\n",
              "      <td>4.50</td>\n",
              "      <td>A</td>\n",
              "      <td>5.44</td>\n",
              "      <td>5.78</td>\n",
              "      <td>6.51</td>\n",
              "      <td>TB</td>\n",
              "      <td>TB</td>\n",
              "      <td>K</td>\n",
              "      <td>2.176</td>\n",
              "      <td>2.312</td>\n",
              "      <td>2.604</td>\n",
              "      <td>0.0</td>\n",
              "    </tr>\n",
              "    <tr>\n",
              "      <th>...</th>\n",
              "      <td>...</td>\n",
              "      <td>...</td>\n",
              "      <td>...</td>\n",
              "      <td>...</td>\n",
              "      <td>...</td>\n",
              "      <td>...</td>\n",
              "      <td>...</td>\n",
              "      <td>...</td>\n",
              "      <td>...</td>\n",
              "      <td>...</td>\n",
              "      <td>...</td>\n",
              "      <td>...</td>\n",
              "      <td>...</td>\n",
              "      <td>...</td>\n",
              "      <td>...</td>\n",
              "      <td>...</td>\n",
              "      <td>...</td>\n",
              "      <td>...</td>\n",
              "      <td>...</td>\n",
              "      <td>...</td>\n",
              "      <td>...</td>\n",
              "      <td>...</td>\n",
              "      <td>...</td>\n",
              "      <td>...</td>\n",
              "      <td>...</td>\n",
              "      <td>...</td>\n",
              "      <td>...</td>\n",
              "      <td>...</td>\n",
              "      <td>...</td>\n",
              "      <td>...</td>\n",
              "      <td>...</td>\n",
              "      <td>...</td>\n",
              "      <td>...</td>\n",
              "      <td>...</td>\n",
              "      <td>...</td>\n",
              "      <td>...</td>\n",
              "      <td>...</td>\n",
              "      <td>...</td>\n",
              "      <td>...</td>\n",
              "      <td>...</td>\n",
              "      <td>...</td>\n",
              "      <td>...</td>\n",
              "      <td>...</td>\n",
              "      <td>...</td>\n",
              "      <td>...</td>\n",
              "      <td>...</td>\n",
              "      <td>...</td>\n",
              "      <td>...</td>\n",
              "      <td>...</td>\n",
              "      <td>...</td>\n",
              "      <td>...</td>\n",
              "      <td>...</td>\n",
              "      <td>...</td>\n",
              "      <td>...</td>\n",
              "      <td>...</td>\n",
              "      <td>...</td>\n",
              "      <td>...</td>\n",
              "      <td>...</td>\n",
              "      <td>...</td>\n",
              "      <td>...</td>\n",
              "      <td>...</td>\n",
              "      <td>...</td>\n",
              "      <td>...</td>\n",
              "      <td>...</td>\n",
              "      <td>...</td>\n",
              "      <td>...</td>\n",
              "    </tr>\n",
              "    <tr>\n",
              "      <th>84</th>\n",
              "      <td>85</td>\n",
              "      <td>8.4</td>\n",
              "      <td>7.4</td>\n",
              "      <td>6.0</td>\n",
              "      <td>7.8</td>\n",
              "      <td>6.3</td>\n",
              "      <td>7.2</td>\n",
              "      <td>8.5</td>\n",
              "      <td>6.0</td>\n",
              "      <td>9.3</td>\n",
              "      <td>7.0</td>\n",
              "      <td>8.5</td>\n",
              "      <td>8.8</td>\n",
              "      <td>6.9</td>\n",
              "      <td>6.9</td>\n",
              "      <td>7.3</td>\n",
              "      <td>6.8</td>\n",
              "      <td>7.4</td>\n",
              "      <td>7.0</td>\n",
              "      <td>8.0</td>\n",
              "      <td>7.5</td>\n",
              "      <td>7.1</td>\n",
              "      <td>6.7</td>\n",
              "      <td>8.4</td>\n",
              "      <td>5.8</td>\n",
              "      <td>7.7</td>\n",
              "      <td>6.7</td>\n",
              "      <td>8.2</td>\n",
              "      <td>7.5</td>\n",
              "      <td>7.5</td>\n",
              "      <td>6.1</td>\n",
              "      <td>8.1</td>\n",
              "      <td>6.5</td>\n",
              "      <td>8.2</td>\n",
              "      <td>5.9</td>\n",
              "      <td>7.9</td>\n",
              "      <td>8.6</td>\n",
              "      <td>6.1</td>\n",
              "      <td>5.1</td>\n",
              "      <td>7.2</td>\n",
              "      <td>6.1</td>\n",
              "      <td>8.6</td>\n",
              "      <td>7.8</td>\n",
              "      <td>8.9</td>\n",
              "      <td>8.5</td>\n",
              "      <td>6.7</td>\n",
              "      <td>5.5</td>\n",
              "      <td>7.9</td>\n",
              "      <td>6.6</td>\n",
              "      <td>M</td>\n",
              "      <td>0.0</td>\n",
              "      <td>1</td>\n",
              "      <td>6.50</td>\n",
              "      <td>4.50</td>\n",
              "      <td>8.00</td>\n",
              "      <td>A</td>\n",
              "      <td>7.23</td>\n",
              "      <td>7.77</td>\n",
              "      <td>7.24</td>\n",
              "      <td>K</td>\n",
              "      <td>K</td>\n",
              "      <td>K</td>\n",
              "      <td>2.892</td>\n",
              "      <td>3.108</td>\n",
              "      <td>2.896</td>\n",
              "      <td>1.0</td>\n",
              "    </tr>\n",
              "    <tr>\n",
              "      <th>11</th>\n",
              "      <td>12</td>\n",
              "      <td>7.9</td>\n",
              "      <td>7.0</td>\n",
              "      <td>9.1</td>\n",
              "      <td>8.6</td>\n",
              "      <td>6.1</td>\n",
              "      <td>7.0</td>\n",
              "      <td>5.6</td>\n",
              "      <td>9.0</td>\n",
              "      <td>8.2</td>\n",
              "      <td>7.1</td>\n",
              "      <td>8.8</td>\n",
              "      <td>7.6</td>\n",
              "      <td>6.9</td>\n",
              "      <td>7.3</td>\n",
              "      <td>7.2</td>\n",
              "      <td>9.0</td>\n",
              "      <td>8.1</td>\n",
              "      <td>8.4</td>\n",
              "      <td>8.5</td>\n",
              "      <td>7.6</td>\n",
              "      <td>5.5</td>\n",
              "      <td>8.0</td>\n",
              "      <td>6.6</td>\n",
              "      <td>8.6</td>\n",
              "      <td>6.9</td>\n",
              "      <td>7.0</td>\n",
              "      <td>8.9</td>\n",
              "      <td>8.6</td>\n",
              "      <td>5.6</td>\n",
              "      <td>5.3</td>\n",
              "      <td>7.1</td>\n",
              "      <td>8.3</td>\n",
              "      <td>8.0</td>\n",
              "      <td>7.8</td>\n",
              "      <td>8.6</td>\n",
              "      <td>7.3</td>\n",
              "      <td>6.2</td>\n",
              "      <td>3.9</td>\n",
              "      <td>5.7</td>\n",
              "      <td>8.6</td>\n",
              "      <td>8.1</td>\n",
              "      <td>7.9</td>\n",
              "      <td>8.3</td>\n",
              "      <td>7.9</td>\n",
              "      <td>6.4</td>\n",
              "      <td>6.4</td>\n",
              "      <td>6.7</td>\n",
              "      <td>8.7</td>\n",
              "      <td>M</td>\n",
              "      <td>0.0</td>\n",
              "      <td>2</td>\n",
              "      <td>6.75</td>\n",
              "      <td>6.50</td>\n",
              "      <td>4.25</td>\n",
              "      <td>D1</td>\n",
              "      <td>7.43</td>\n",
              "      <td>7.72</td>\n",
              "      <td>7.49</td>\n",
              "      <td>K</td>\n",
              "      <td>K</td>\n",
              "      <td>K</td>\n",
              "      <td>2.972</td>\n",
              "      <td>3.088</td>\n",
              "      <td>2.996</td>\n",
              "      <td>1.0</td>\n",
              "    </tr>\n",
              "    <tr>\n",
              "      <th>23</th>\n",
              "      <td>24</td>\n",
              "      <td>5.3</td>\n",
              "      <td>6.3</td>\n",
              "      <td>5.7</td>\n",
              "      <td>6.9</td>\n",
              "      <td>5.9</td>\n",
              "      <td>7.5</td>\n",
              "      <td>6.6</td>\n",
              "      <td>5.1</td>\n",
              "      <td>6.4</td>\n",
              "      <td>6.9</td>\n",
              "      <td>4.7</td>\n",
              "      <td>7.4</td>\n",
              "      <td>6.1</td>\n",
              "      <td>8.4</td>\n",
              "      <td>6.4</td>\n",
              "      <td>4.4</td>\n",
              "      <td>6.1</td>\n",
              "      <td>5.8</td>\n",
              "      <td>5.1</td>\n",
              "      <td>7.4</td>\n",
              "      <td>6.7</td>\n",
              "      <td>7.1</td>\n",
              "      <td>6.7</td>\n",
              "      <td>4.3</td>\n",
              "      <td>5.0</td>\n",
              "      <td>3.5</td>\n",
              "      <td>4.5</td>\n",
              "      <td>7.3</td>\n",
              "      <td>6.1</td>\n",
              "      <td>8.8</td>\n",
              "      <td>7.9</td>\n",
              "      <td>3.9</td>\n",
              "      <td>5.3</td>\n",
              "      <td>5.5</td>\n",
              "      <td>6.3</td>\n",
              "      <td>6.7</td>\n",
              "      <td>6.7</td>\n",
              "      <td>7.5</td>\n",
              "      <td>6.7</td>\n",
              "      <td>4.5</td>\n",
              "      <td>6.1</td>\n",
              "      <td>6.8</td>\n",
              "      <td>6.4</td>\n",
              "      <td>6.4</td>\n",
              "      <td>7.6</td>\n",
              "      <td>8.8</td>\n",
              "      <td>6.1</td>\n",
              "      <td>5.2</td>\n",
              "      <td>M</td>\n",
              "      <td>0.0</td>\n",
              "      <td>2NT</td>\n",
              "      <td>6.75</td>\n",
              "      <td>5.25</td>\n",
              "      <td>5.00</td>\n",
              "      <td>C</td>\n",
              "      <td>6.05</td>\n",
              "      <td>6.32</td>\n",
              "      <td>6.20</td>\n",
              "      <td>TB</td>\n",
              "      <td>TB</td>\n",
              "      <td>TB</td>\n",
              "      <td>2.420</td>\n",
              "      <td>2.528</td>\n",
              "      <td>2.480</td>\n",
              "      <td>1.0</td>\n",
              "    </tr>\n",
              "    <tr>\n",
              "      <th>24</th>\n",
              "      <td>25</td>\n",
              "      <td>2.4</td>\n",
              "      <td>4.1</td>\n",
              "      <td>3.6</td>\n",
              "      <td>5.5</td>\n",
              "      <td>5.9</td>\n",
              "      <td>5.6</td>\n",
              "      <td>4.9</td>\n",
              "      <td>4.2</td>\n",
              "      <td>3.3</td>\n",
              "      <td>5.7</td>\n",
              "      <td>4.9</td>\n",
              "      <td>5.3</td>\n",
              "      <td>5.7</td>\n",
              "      <td>4.5</td>\n",
              "      <td>5.6</td>\n",
              "      <td>4.8</td>\n",
              "      <td>3.9</td>\n",
              "      <td>4.6</td>\n",
              "      <td>4.6</td>\n",
              "      <td>6.9</td>\n",
              "      <td>5.7</td>\n",
              "      <td>8.0</td>\n",
              "      <td>5.1</td>\n",
              "      <td>4.7</td>\n",
              "      <td>3.3</td>\n",
              "      <td>5.3</td>\n",
              "      <td>5.6</td>\n",
              "      <td>6.9</td>\n",
              "      <td>7.2</td>\n",
              "      <td>7.3</td>\n",
              "      <td>6.1</td>\n",
              "      <td>3.6</td>\n",
              "      <td>4.4</td>\n",
              "      <td>5.0</td>\n",
              "      <td>4.4</td>\n",
              "      <td>5.6</td>\n",
              "      <td>6.8</td>\n",
              "      <td>4.0</td>\n",
              "      <td>5.0</td>\n",
              "      <td>5.2</td>\n",
              "      <td>3.8</td>\n",
              "      <td>6.3</td>\n",
              "      <td>4.5</td>\n",
              "      <td>6.6</td>\n",
              "      <td>7.1</td>\n",
              "      <td>4.1</td>\n",
              "      <td>5.7</td>\n",
              "      <td>5.1</td>\n",
              "      <td>F</td>\n",
              "      <td>0.0</td>\n",
              "      <td>1</td>\n",
              "      <td>7.00</td>\n",
              "      <td>2.25</td>\n",
              "      <td>5.25</td>\n",
              "      <td>C</td>\n",
              "      <td>4.45</td>\n",
              "      <td>4.88</td>\n",
              "      <td>5.31</td>\n",
              "      <td>Y</td>\n",
              "      <td>Y</td>\n",
              "      <td>TB</td>\n",
              "      <td>1.780</td>\n",
              "      <td>1.952</td>\n",
              "      <td>2.124</td>\n",
              "      <td>0.0</td>\n",
              "    </tr>\n",
              "    <tr>\n",
              "      <th>97</th>\n",
              "      <td>98</td>\n",
              "      <td>8.8</td>\n",
              "      <td>5.5</td>\n",
              "      <td>7.4</td>\n",
              "      <td>7.7</td>\n",
              "      <td>6.2</td>\n",
              "      <td>7.3</td>\n",
              "      <td>8.1</td>\n",
              "      <td>4.5</td>\n",
              "      <td>9.5</td>\n",
              "      <td>7.3</td>\n",
              "      <td>6.0</td>\n",
              "      <td>8.4</td>\n",
              "      <td>7.0</td>\n",
              "      <td>8.4</td>\n",
              "      <td>8.8</td>\n",
              "      <td>6.5</td>\n",
              "      <td>9.5</td>\n",
              "      <td>6.6</td>\n",
              "      <td>6.4</td>\n",
              "      <td>7.6</td>\n",
              "      <td>7.0</td>\n",
              "      <td>9.6</td>\n",
              "      <td>9.3</td>\n",
              "      <td>6.7</td>\n",
              "      <td>8.5</td>\n",
              "      <td>6.9</td>\n",
              "      <td>5.8</td>\n",
              "      <td>8.4</td>\n",
              "      <td>8.0</td>\n",
              "      <td>8.9</td>\n",
              "      <td>9.6</td>\n",
              "      <td>7.1</td>\n",
              "      <td>9.0</td>\n",
              "      <td>7.1</td>\n",
              "      <td>6.7</td>\n",
              "      <td>5.7</td>\n",
              "      <td>6.9</td>\n",
              "      <td>8.6</td>\n",
              "      <td>8.6</td>\n",
              "      <td>5.9</td>\n",
              "      <td>8.5</td>\n",
              "      <td>7.1</td>\n",
              "      <td>6.2</td>\n",
              "      <td>8.6</td>\n",
              "      <td>7.0</td>\n",
              "      <td>9.6</td>\n",
              "      <td>8.4</td>\n",
              "      <td>5.8</td>\n",
              "      <td>M</td>\n",
              "      <td>0.0</td>\n",
              "      <td>2NT</td>\n",
              "      <td>7.00</td>\n",
              "      <td>8.00</td>\n",
              "      <td>4.00</td>\n",
              "      <td>C</td>\n",
              "      <td>7.05</td>\n",
              "      <td>7.84</td>\n",
              "      <td>7.92</td>\n",
              "      <td>K</td>\n",
              "      <td>K</td>\n",
              "      <td>K</td>\n",
              "      <td>2.820</td>\n",
              "      <td>3.136</td>\n",
              "      <td>3.168</td>\n",
              "      <td>1.0</td>\n",
              "    </tr>\n",
              "  </tbody>\n",
              "</table>\n",
              "<p>100 rows × 66 columns</p>\n",
              "</div>"
            ],
            "text/plain": [
              "    STT   T1   L1   H1   S1   V1  ...  XL2  XL3  US_TMN1  US_TMN2  US_TMN3  KQXT\n",
              "53   54  4.9  5.9  6.2  5.6  5.9  ...   TB    Y    2.276    2.504    1.628   0.0\n",
              "43   44  6.6  7.2  5.9  6.9  7.6  ...    K    K    2.820    2.644    2.624   0.0\n",
              "72   73  5.5  6.6  7.2  7.6  5.5  ...   TB   TB    2.480    2.352    2.252   0.0\n",
              "5     6  9.3  7.6  7.9  8.6  7.0  ...    G    K    3.184    3.416    3.128   0.0\n",
              "87   88  7.3  4.3  5.3  5.8  4.9  ...   TB    K    2.176    2.312    2.604   0.0\n",
              "..  ...  ...  ...  ...  ...  ...  ...  ...  ...      ...      ...      ...   ...\n",
              "84   85  8.4  7.4  6.0  7.8  6.3  ...    K    K    2.892    3.108    2.896   1.0\n",
              "11   12  7.9  7.0  9.1  8.6  6.1  ...    K    K    2.972    3.088    2.996   1.0\n",
              "23   24  5.3  6.3  5.7  6.9  5.9  ...   TB   TB    2.420    2.528    2.480   1.0\n",
              "24   25  2.4  4.1  3.6  5.5  5.9  ...    Y   TB    1.780    1.952    2.124   0.0\n",
              "97   98  8.8  5.5  7.4  7.7  6.2  ...    K    K    2.820    3.136    3.168   1.0\n",
              "\n",
              "[100 rows x 66 columns]"
            ]
          },
          "metadata": {},
          "execution_count": 4
        }
      ]
    },
    {
      "cell_type": "markdown",
      "metadata": {
        "id": "_FA8wRaVqAZM"
      },
      "source": [
        "2. Hãy sắp xếp dữ liệu điểm DH2 tăng dần theo nhóm giới tính\n"
      ]
    },
    {
      "cell_type": "code",
      "metadata": {
        "colab": {
          "base_uri": "https://localhost:8080/",
          "height": 439
        },
        "id": "3sOB6MwuqBlt",
        "outputId": "f75dd6aa-eb88-4c02-8285-84e850df01b6"
      },
      "source": [
        "dataframe.sort_values(by = ['DH2','GT'])\n"
      ],
      "execution_count": 5,
      "outputs": [
        {
          "output_type": "execute_result",
          "data": {
            "text/html": [
              "<div>\n",
              "<style scoped>\n",
              "    .dataframe tbody tr th:only-of-type {\n",
              "        vertical-align: middle;\n",
              "    }\n",
              "\n",
              "    .dataframe tbody tr th {\n",
              "        vertical-align: top;\n",
              "    }\n",
              "\n",
              "    .dataframe thead th {\n",
              "        text-align: right;\n",
              "    }\n",
              "</style>\n",
              "<table border=\"1\" class=\"dataframe\">\n",
              "  <thead>\n",
              "    <tr style=\"text-align: right;\">\n",
              "      <th></th>\n",
              "      <th>STT</th>\n",
              "      <th>T1</th>\n",
              "      <th>L1</th>\n",
              "      <th>H1</th>\n",
              "      <th>S1</th>\n",
              "      <th>V1</th>\n",
              "      <th>X1</th>\n",
              "      <th>D1</th>\n",
              "      <th>N1</th>\n",
              "      <th>T2</th>\n",
              "      <th>L2</th>\n",
              "      <th>H2</th>\n",
              "      <th>S2</th>\n",
              "      <th>V2</th>\n",
              "      <th>X2</th>\n",
              "      <th>D2</th>\n",
              "      <th>N2</th>\n",
              "      <th>T3</th>\n",
              "      <th>L3</th>\n",
              "      <th>H3</th>\n",
              "      <th>S3</th>\n",
              "      <th>V3</th>\n",
              "      <th>X3</th>\n",
              "      <th>D3</th>\n",
              "      <th>N3</th>\n",
              "      <th>T4</th>\n",
              "      <th>L4</th>\n",
              "      <th>H4</th>\n",
              "      <th>S4</th>\n",
              "      <th>V4</th>\n",
              "      <th>X4</th>\n",
              "      <th>D4</th>\n",
              "      <th>N4</th>\n",
              "      <th>T5</th>\n",
              "      <th>L5</th>\n",
              "      <th>H5</th>\n",
              "      <th>S5</th>\n",
              "      <th>V5</th>\n",
              "      <th>X5</th>\n",
              "      <th>D5</th>\n",
              "      <th>N5</th>\n",
              "      <th>T6</th>\n",
              "      <th>L6</th>\n",
              "      <th>H6</th>\n",
              "      <th>S6</th>\n",
              "      <th>V6</th>\n",
              "      <th>X6</th>\n",
              "      <th>D6</th>\n",
              "      <th>N6</th>\n",
              "      <th>GT</th>\n",
              "      <th>DT</th>\n",
              "      <th>KV</th>\n",
              "      <th>DH1</th>\n",
              "      <th>DH2</th>\n",
              "      <th>DH3</th>\n",
              "      <th>KT</th>\n",
              "      <th>TBM1</th>\n",
              "      <th>TBM2</th>\n",
              "      <th>TBM3</th>\n",
              "      <th>XL1</th>\n",
              "      <th>XL2</th>\n",
              "      <th>XL3</th>\n",
              "      <th>US_TMN1</th>\n",
              "      <th>US_TMN2</th>\n",
              "      <th>US_TMN3</th>\n",
              "      <th>KQXT</th>\n",
              "    </tr>\n",
              "  </thead>\n",
              "  <tbody>\n",
              "    <tr>\n",
              "      <th>95</th>\n",
              "      <td>96</td>\n",
              "      <td>8.6</td>\n",
              "      <td>6.9</td>\n",
              "      <td>7.4</td>\n",
              "      <td>8.8</td>\n",
              "      <td>7.6</td>\n",
              "      <td>5.8</td>\n",
              "      <td>7.3</td>\n",
              "      <td>5.7</td>\n",
              "      <td>8.9</td>\n",
              "      <td>6.8</td>\n",
              "      <td>6.5</td>\n",
              "      <td>7.3</td>\n",
              "      <td>7.0</td>\n",
              "      <td>7.3</td>\n",
              "      <td>6.9</td>\n",
              "      <td>7.6</td>\n",
              "      <td>7.7</td>\n",
              "      <td>5.6</td>\n",
              "      <td>5.9</td>\n",
              "      <td>7.7</td>\n",
              "      <td>6.8</td>\n",
              "      <td>8.1</td>\n",
              "      <td>6.6</td>\n",
              "      <td>7.5</td>\n",
              "      <td>6.7</td>\n",
              "      <td>6.8</td>\n",
              "      <td>6.0</td>\n",
              "      <td>8.3</td>\n",
              "      <td>7.5</td>\n",
              "      <td>7.1</td>\n",
              "      <td>6.8</td>\n",
              "      <td>7.8</td>\n",
              "      <td>7.9</td>\n",
              "      <td>6.7</td>\n",
              "      <td>7.2</td>\n",
              "      <td>6.1</td>\n",
              "      <td>7.2</td>\n",
              "      <td>5.3</td>\n",
              "      <td>5.2</td>\n",
              "      <td>5.2</td>\n",
              "      <td>6.6</td>\n",
              "      <td>6.9</td>\n",
              "      <td>7.4</td>\n",
              "      <td>7.0</td>\n",
              "      <td>7.6</td>\n",
              "      <td>6.3</td>\n",
              "      <td>6.1</td>\n",
              "      <td>6.2</td>\n",
              "      <td>F</td>\n",
              "      <td>0.0</td>\n",
              "      <td>1</td>\n",
              "      <td>5.25</td>\n",
              "      <td>1.50</td>\n",
              "      <td>6.25</td>\n",
              "      <td>C</td>\n",
              "      <td>7.43</td>\n",
              "      <td>7.42</td>\n",
              "      <td>7.04</td>\n",
              "      <td>K</td>\n",
              "      <td>K</td>\n",
              "      <td>K</td>\n",
              "      <td>2.972</td>\n",
              "      <td>2.968</td>\n",
              "      <td>2.816</td>\n",
              "      <td>0.0</td>\n",
              "    </tr>\n",
              "    <tr>\n",
              "      <th>25</th>\n",
              "      <td>26</td>\n",
              "      <td>3.6</td>\n",
              "      <td>5.8</td>\n",
              "      <td>6.9</td>\n",
              "      <td>6.1</td>\n",
              "      <td>5.5</td>\n",
              "      <td>7.2</td>\n",
              "      <td>5.5</td>\n",
              "      <td>4.3</td>\n",
              "      <td>4.2</td>\n",
              "      <td>5.4</td>\n",
              "      <td>6.5</td>\n",
              "      <td>5.5</td>\n",
              "      <td>5.8</td>\n",
              "      <td>5.0</td>\n",
              "      <td>5.3</td>\n",
              "      <td>4.3</td>\n",
              "      <td>4.2</td>\n",
              "      <td>4.5</td>\n",
              "      <td>5.3</td>\n",
              "      <td>5.0</td>\n",
              "      <td>5.6</td>\n",
              "      <td>6.4</td>\n",
              "      <td>5.3</td>\n",
              "      <td>4.1</td>\n",
              "      <td>4.8</td>\n",
              "      <td>4.8</td>\n",
              "      <td>4.7</td>\n",
              "      <td>4.6</td>\n",
              "      <td>5.4</td>\n",
              "      <td>4.1</td>\n",
              "      <td>6.3</td>\n",
              "      <td>5.6</td>\n",
              "      <td>5.8</td>\n",
              "      <td>4.9</td>\n",
              "      <td>4.8</td>\n",
              "      <td>6.3</td>\n",
              "      <td>4.8</td>\n",
              "      <td>2.7</td>\n",
              "      <td>4.4</td>\n",
              "      <td>5.0</td>\n",
              "      <td>3.7</td>\n",
              "      <td>4.5</td>\n",
              "      <td>5.7</td>\n",
              "      <td>5.5</td>\n",
              "      <td>5.6</td>\n",
              "      <td>5.9</td>\n",
              "      <td>6.3</td>\n",
              "      <td>4.4</td>\n",
              "      <td>F</td>\n",
              "      <td>0.0</td>\n",
              "      <td>1</td>\n",
              "      <td>4.75</td>\n",
              "      <td>2.00</td>\n",
              "      <td>5.50</td>\n",
              "      <td>C</td>\n",
              "      <td>5.40</td>\n",
              "      <td>5.20</td>\n",
              "      <td>5.02</td>\n",
              "      <td>TB</td>\n",
              "      <td>TB</td>\n",
              "      <td>TB</td>\n",
              "      <td>2.160</td>\n",
              "      <td>2.080</td>\n",
              "      <td>2.008</td>\n",
              "      <td>0.0</td>\n",
              "    </tr>\n",
              "    <tr>\n",
              "      <th>24</th>\n",
              "      <td>25</td>\n",
              "      <td>2.4</td>\n",
              "      <td>4.1</td>\n",
              "      <td>3.6</td>\n",
              "      <td>5.5</td>\n",
              "      <td>5.9</td>\n",
              "      <td>5.6</td>\n",
              "      <td>4.9</td>\n",
              "      <td>4.2</td>\n",
              "      <td>3.3</td>\n",
              "      <td>5.7</td>\n",
              "      <td>4.9</td>\n",
              "      <td>5.3</td>\n",
              "      <td>5.7</td>\n",
              "      <td>4.5</td>\n",
              "      <td>5.6</td>\n",
              "      <td>4.8</td>\n",
              "      <td>3.9</td>\n",
              "      <td>4.6</td>\n",
              "      <td>4.6</td>\n",
              "      <td>6.9</td>\n",
              "      <td>5.7</td>\n",
              "      <td>8.0</td>\n",
              "      <td>5.1</td>\n",
              "      <td>4.7</td>\n",
              "      <td>3.3</td>\n",
              "      <td>5.3</td>\n",
              "      <td>5.6</td>\n",
              "      <td>6.9</td>\n",
              "      <td>7.2</td>\n",
              "      <td>7.3</td>\n",
              "      <td>6.1</td>\n",
              "      <td>3.6</td>\n",
              "      <td>4.4</td>\n",
              "      <td>5.0</td>\n",
              "      <td>4.4</td>\n",
              "      <td>5.6</td>\n",
              "      <td>6.8</td>\n",
              "      <td>4.0</td>\n",
              "      <td>5.0</td>\n",
              "      <td>5.2</td>\n",
              "      <td>3.8</td>\n",
              "      <td>6.3</td>\n",
              "      <td>4.5</td>\n",
              "      <td>6.6</td>\n",
              "      <td>7.1</td>\n",
              "      <td>4.1</td>\n",
              "      <td>5.7</td>\n",
              "      <td>5.1</td>\n",
              "      <td>F</td>\n",
              "      <td>0.0</td>\n",
              "      <td>1</td>\n",
              "      <td>7.00</td>\n",
              "      <td>2.25</td>\n",
              "      <td>5.25</td>\n",
              "      <td>C</td>\n",
              "      <td>4.45</td>\n",
              "      <td>4.88</td>\n",
              "      <td>5.31</td>\n",
              "      <td>Y</td>\n",
              "      <td>Y</td>\n",
              "      <td>TB</td>\n",
              "      <td>1.780</td>\n",
              "      <td>1.952</td>\n",
              "      <td>2.124</td>\n",
              "      <td>0.0</td>\n",
              "    </tr>\n",
              "    <tr>\n",
              "      <th>46</th>\n",
              "      <td>47</td>\n",
              "      <td>6.7</td>\n",
              "      <td>6.8</td>\n",
              "      <td>6.4</td>\n",
              "      <td>5.9</td>\n",
              "      <td>5.6</td>\n",
              "      <td>6.4</td>\n",
              "      <td>8.0</td>\n",
              "      <td>6.8</td>\n",
              "      <td>6.6</td>\n",
              "      <td>6.9</td>\n",
              "      <td>7.1</td>\n",
              "      <td>4.6</td>\n",
              "      <td>6.0</td>\n",
              "      <td>6.7</td>\n",
              "      <td>7.8</td>\n",
              "      <td>6.8</td>\n",
              "      <td>7.6</td>\n",
              "      <td>7.0</td>\n",
              "      <td>6.7</td>\n",
              "      <td>7.0</td>\n",
              "      <td>5.9</td>\n",
              "      <td>6.2</td>\n",
              "      <td>8.1</td>\n",
              "      <td>7.5</td>\n",
              "      <td>7.4</td>\n",
              "      <td>6.5</td>\n",
              "      <td>6.6</td>\n",
              "      <td>6.1</td>\n",
              "      <td>6.0</td>\n",
              "      <td>5.4</td>\n",
              "      <td>6.8</td>\n",
              "      <td>6.8</td>\n",
              "      <td>6.1</td>\n",
              "      <td>5.5</td>\n",
              "      <td>6.3</td>\n",
              "      <td>6.5</td>\n",
              "      <td>5.8</td>\n",
              "      <td>5.2</td>\n",
              "      <td>7.9</td>\n",
              "      <td>5.3</td>\n",
              "      <td>6.5</td>\n",
              "      <td>6.9</td>\n",
              "      <td>5.9</td>\n",
              "      <td>7.0</td>\n",
              "      <td>6.0</td>\n",
              "      <td>5.1</td>\n",
              "      <td>6.6</td>\n",
              "      <td>5.1</td>\n",
              "      <td>F</td>\n",
              "      <td>0.0</td>\n",
              "      <td>1</td>\n",
              "      <td>5.25</td>\n",
              "      <td>2.25</td>\n",
              "      <td>5.25</td>\n",
              "      <td>D1</td>\n",
              "      <td>6.49</td>\n",
              "      <td>6.51</td>\n",
              "      <td>6.95</td>\n",
              "      <td>TB</td>\n",
              "      <td>K</td>\n",
              "      <td>K</td>\n",
              "      <td>2.596</td>\n",
              "      <td>2.604</td>\n",
              "      <td>2.780</td>\n",
              "      <td>0.0</td>\n",
              "    </tr>\n",
              "    <tr>\n",
              "      <th>94</th>\n",
              "      <td>95</td>\n",
              "      <td>5.8</td>\n",
              "      <td>5.9</td>\n",
              "      <td>7.6</td>\n",
              "      <td>6.1</td>\n",
              "      <td>5.3</td>\n",
              "      <td>8.1</td>\n",
              "      <td>6.1</td>\n",
              "      <td>5.0</td>\n",
              "      <td>6.4</td>\n",
              "      <td>7.2</td>\n",
              "      <td>7.7</td>\n",
              "      <td>7.5</td>\n",
              "      <td>5.3</td>\n",
              "      <td>8.4</td>\n",
              "      <td>6.8</td>\n",
              "      <td>6.1</td>\n",
              "      <td>7.3</td>\n",
              "      <td>7.0</td>\n",
              "      <td>7.9</td>\n",
              "      <td>7.3</td>\n",
              "      <td>5.7</td>\n",
              "      <td>8.6</td>\n",
              "      <td>6.8</td>\n",
              "      <td>5.1</td>\n",
              "      <td>7.1</td>\n",
              "      <td>7.3</td>\n",
              "      <td>8.4</td>\n",
              "      <td>7.3</td>\n",
              "      <td>5.7</td>\n",
              "      <td>8.7</td>\n",
              "      <td>7.0</td>\n",
              "      <td>5.6</td>\n",
              "      <td>7.3</td>\n",
              "      <td>6.8</td>\n",
              "      <td>6.5</td>\n",
              "      <td>8.0</td>\n",
              "      <td>5.9</td>\n",
              "      <td>5.3</td>\n",
              "      <td>7.4</td>\n",
              "      <td>6.5</td>\n",
              "      <td>6.7</td>\n",
              "      <td>8.1</td>\n",
              "      <td>7.1</td>\n",
              "      <td>6.8</td>\n",
              "      <td>6.0</td>\n",
              "      <td>7.3</td>\n",
              "      <td>6.8</td>\n",
              "      <td>5.3</td>\n",
              "      <td>M</td>\n",
              "      <td>0.0</td>\n",
              "      <td>1</td>\n",
              "      <td>4.25</td>\n",
              "      <td>2.50</td>\n",
              "      <td>4.75</td>\n",
              "      <td>A</td>\n",
              "      <td>6.10</td>\n",
              "      <td>6.71</td>\n",
              "      <td>6.87</td>\n",
              "      <td>TB</td>\n",
              "      <td>K</td>\n",
              "      <td>K</td>\n",
              "      <td>2.440</td>\n",
              "      <td>2.684</td>\n",
              "      <td>2.748</td>\n",
              "      <td>0.0</td>\n",
              "    </tr>\n",
              "    <tr>\n",
              "      <th>...</th>\n",
              "      <td>...</td>\n",
              "      <td>...</td>\n",
              "      <td>...</td>\n",
              "      <td>...</td>\n",
              "      <td>...</td>\n",
              "      <td>...</td>\n",
              "      <td>...</td>\n",
              "      <td>...</td>\n",
              "      <td>...</td>\n",
              "      <td>...</td>\n",
              "      <td>...</td>\n",
              "      <td>...</td>\n",
              "      <td>...</td>\n",
              "      <td>...</td>\n",
              "      <td>...</td>\n",
              "      <td>...</td>\n",
              "      <td>...</td>\n",
              "      <td>...</td>\n",
              "      <td>...</td>\n",
              "      <td>...</td>\n",
              "      <td>...</td>\n",
              "      <td>...</td>\n",
              "      <td>...</td>\n",
              "      <td>...</td>\n",
              "      <td>...</td>\n",
              "      <td>...</td>\n",
              "      <td>...</td>\n",
              "      <td>...</td>\n",
              "      <td>...</td>\n",
              "      <td>...</td>\n",
              "      <td>...</td>\n",
              "      <td>...</td>\n",
              "      <td>...</td>\n",
              "      <td>...</td>\n",
              "      <td>...</td>\n",
              "      <td>...</td>\n",
              "      <td>...</td>\n",
              "      <td>...</td>\n",
              "      <td>...</td>\n",
              "      <td>...</td>\n",
              "      <td>...</td>\n",
              "      <td>...</td>\n",
              "      <td>...</td>\n",
              "      <td>...</td>\n",
              "      <td>...</td>\n",
              "      <td>...</td>\n",
              "      <td>...</td>\n",
              "      <td>...</td>\n",
              "      <td>...</td>\n",
              "      <td>...</td>\n",
              "      <td>...</td>\n",
              "      <td>...</td>\n",
              "      <td>...</td>\n",
              "      <td>...</td>\n",
              "      <td>...</td>\n",
              "      <td>...</td>\n",
              "      <td>...</td>\n",
              "      <td>...</td>\n",
              "      <td>...</td>\n",
              "      <td>...</td>\n",
              "      <td>...</td>\n",
              "      <td>...</td>\n",
              "      <td>...</td>\n",
              "      <td>...</td>\n",
              "      <td>...</td>\n",
              "      <td>...</td>\n",
              "    </tr>\n",
              "    <tr>\n",
              "      <th>11</th>\n",
              "      <td>12</td>\n",
              "      <td>7.9</td>\n",
              "      <td>7.0</td>\n",
              "      <td>9.1</td>\n",
              "      <td>8.6</td>\n",
              "      <td>6.1</td>\n",
              "      <td>7.0</td>\n",
              "      <td>5.6</td>\n",
              "      <td>9.0</td>\n",
              "      <td>8.2</td>\n",
              "      <td>7.1</td>\n",
              "      <td>8.8</td>\n",
              "      <td>7.6</td>\n",
              "      <td>6.9</td>\n",
              "      <td>7.3</td>\n",
              "      <td>7.2</td>\n",
              "      <td>9.0</td>\n",
              "      <td>8.1</td>\n",
              "      <td>8.4</td>\n",
              "      <td>8.5</td>\n",
              "      <td>7.6</td>\n",
              "      <td>5.5</td>\n",
              "      <td>8.0</td>\n",
              "      <td>6.6</td>\n",
              "      <td>8.6</td>\n",
              "      <td>6.9</td>\n",
              "      <td>7.0</td>\n",
              "      <td>8.9</td>\n",
              "      <td>8.6</td>\n",
              "      <td>5.6</td>\n",
              "      <td>5.3</td>\n",
              "      <td>7.1</td>\n",
              "      <td>8.3</td>\n",
              "      <td>8.0</td>\n",
              "      <td>7.8</td>\n",
              "      <td>8.6</td>\n",
              "      <td>7.3</td>\n",
              "      <td>6.2</td>\n",
              "      <td>3.9</td>\n",
              "      <td>5.7</td>\n",
              "      <td>8.6</td>\n",
              "      <td>8.1</td>\n",
              "      <td>7.9</td>\n",
              "      <td>8.3</td>\n",
              "      <td>7.9</td>\n",
              "      <td>6.4</td>\n",
              "      <td>6.4</td>\n",
              "      <td>6.7</td>\n",
              "      <td>8.7</td>\n",
              "      <td>M</td>\n",
              "      <td>0.0</td>\n",
              "      <td>2</td>\n",
              "      <td>6.75</td>\n",
              "      <td>6.50</td>\n",
              "      <td>4.25</td>\n",
              "      <td>D1</td>\n",
              "      <td>7.43</td>\n",
              "      <td>7.72</td>\n",
              "      <td>7.49</td>\n",
              "      <td>K</td>\n",
              "      <td>K</td>\n",
              "      <td>K</td>\n",
              "      <td>2.972</td>\n",
              "      <td>3.088</td>\n",
              "      <td>2.996</td>\n",
              "      <td>1.0</td>\n",
              "    </tr>\n",
              "    <tr>\n",
              "      <th>47</th>\n",
              "      <td>48</td>\n",
              "      <td>7.9</td>\n",
              "      <td>7.6</td>\n",
              "      <td>8.4</td>\n",
              "      <td>8.6</td>\n",
              "      <td>6.2</td>\n",
              "      <td>7.5</td>\n",
              "      <td>8.7</td>\n",
              "      <td>7.7</td>\n",
              "      <td>7.3</td>\n",
              "      <td>7.5</td>\n",
              "      <td>8.0</td>\n",
              "      <td>7.7</td>\n",
              "      <td>5.9</td>\n",
              "      <td>8.5</td>\n",
              "      <td>8.8</td>\n",
              "      <td>8.0</td>\n",
              "      <td>7.8</td>\n",
              "      <td>7.6</td>\n",
              "      <td>8.2</td>\n",
              "      <td>7.6</td>\n",
              "      <td>5.4</td>\n",
              "      <td>6.5</td>\n",
              "      <td>8.2</td>\n",
              "      <td>8.1</td>\n",
              "      <td>9.4</td>\n",
              "      <td>7.6</td>\n",
              "      <td>9.1</td>\n",
              "      <td>8.8</td>\n",
              "      <td>6.2</td>\n",
              "      <td>6.6</td>\n",
              "      <td>8.4</td>\n",
              "      <td>8.4</td>\n",
              "      <td>8.6</td>\n",
              "      <td>8.1</td>\n",
              "      <td>9.0</td>\n",
              "      <td>7.8</td>\n",
              "      <td>5.1</td>\n",
              "      <td>5.2</td>\n",
              "      <td>8.0</td>\n",
              "      <td>7.7</td>\n",
              "      <td>8.1</td>\n",
              "      <td>9.0</td>\n",
              "      <td>9.2</td>\n",
              "      <td>7.5</td>\n",
              "      <td>4.6</td>\n",
              "      <td>5.1</td>\n",
              "      <td>7.0</td>\n",
              "      <td>7.9</td>\n",
              "      <td>M</td>\n",
              "      <td>0.0</td>\n",
              "      <td>2</td>\n",
              "      <td>4.75</td>\n",
              "      <td>6.50</td>\n",
              "      <td>8.00</td>\n",
              "      <td>A</td>\n",
              "      <td>7.67</td>\n",
              "      <td>7.49</td>\n",
              "      <td>7.26</td>\n",
              "      <td>K</td>\n",
              "      <td>K</td>\n",
              "      <td>K</td>\n",
              "      <td>3.068</td>\n",
              "      <td>2.996</td>\n",
              "      <td>2.904</td>\n",
              "      <td>1.0</td>\n",
              "    </tr>\n",
              "    <tr>\n",
              "      <th>6</th>\n",
              "      <td>7</td>\n",
              "      <td>2.8</td>\n",
              "      <td>3.9</td>\n",
              "      <td>5.5</td>\n",
              "      <td>6.9</td>\n",
              "      <td>5.0</td>\n",
              "      <td>7.3</td>\n",
              "      <td>4.6</td>\n",
              "      <td>5.2</td>\n",
              "      <td>4.4</td>\n",
              "      <td>6.7</td>\n",
              "      <td>5.5</td>\n",
              "      <td>7.7</td>\n",
              "      <td>5.0</td>\n",
              "      <td>6.6</td>\n",
              "      <td>6.1</td>\n",
              "      <td>4.6</td>\n",
              "      <td>4.6</td>\n",
              "      <td>4.8</td>\n",
              "      <td>4.4</td>\n",
              "      <td>8.1</td>\n",
              "      <td>5.6</td>\n",
              "      <td>6.0</td>\n",
              "      <td>4.8</td>\n",
              "      <td>3.9</td>\n",
              "      <td>4.7</td>\n",
              "      <td>6.3</td>\n",
              "      <td>4.8</td>\n",
              "      <td>7.1</td>\n",
              "      <td>6.8</td>\n",
              "      <td>7.7</td>\n",
              "      <td>6.6</td>\n",
              "      <td>5.6</td>\n",
              "      <td>5.4</td>\n",
              "      <td>4.5</td>\n",
              "      <td>5.0</td>\n",
              "      <td>5.0</td>\n",
              "      <td>5.9</td>\n",
              "      <td>6.1</td>\n",
              "      <td>6.1</td>\n",
              "      <td>4.8</td>\n",
              "      <td>5.3</td>\n",
              "      <td>7.0</td>\n",
              "      <td>6.0</td>\n",
              "      <td>5.7</td>\n",
              "      <td>6.1</td>\n",
              "      <td>6.6</td>\n",
              "      <td>6.0</td>\n",
              "      <td>6.0</td>\n",
              "      <td>F</td>\n",
              "      <td>0.0</td>\n",
              "      <td>2</td>\n",
              "      <td>6.50</td>\n",
              "      <td>6.75</td>\n",
              "      <td>5.25</td>\n",
              "      <td>C</td>\n",
              "      <td>4.90</td>\n",
              "      <td>5.60</td>\n",
              "      <td>5.24</td>\n",
              "      <td>Y</td>\n",
              "      <td>TB</td>\n",
              "      <td>TB</td>\n",
              "      <td>1.960</td>\n",
              "      <td>2.240</td>\n",
              "      <td>2.096</td>\n",
              "      <td>1.0</td>\n",
              "    </tr>\n",
              "    <tr>\n",
              "      <th>2</th>\n",
              "      <td>3</td>\n",
              "      <td>5.6</td>\n",
              "      <td>6.8</td>\n",
              "      <td>7.2</td>\n",
              "      <td>7.5</td>\n",
              "      <td>4.3</td>\n",
              "      <td>7.4</td>\n",
              "      <td>5.8</td>\n",
              "      <td>3.2</td>\n",
              "      <td>5.0</td>\n",
              "      <td>4.9</td>\n",
              "      <td>6.2</td>\n",
              "      <td>6.1</td>\n",
              "      <td>5.3</td>\n",
              "      <td>7.1</td>\n",
              "      <td>4.0</td>\n",
              "      <td>4.9</td>\n",
              "      <td>2.8</td>\n",
              "      <td>6.3</td>\n",
              "      <td>6.2</td>\n",
              "      <td>5.6</td>\n",
              "      <td>2.5</td>\n",
              "      <td>5.8</td>\n",
              "      <td>5.1</td>\n",
              "      <td>3.7</td>\n",
              "      <td>6.1</td>\n",
              "      <td>6.1</td>\n",
              "      <td>5.8</td>\n",
              "      <td>6.8</td>\n",
              "      <td>4.0</td>\n",
              "      <td>6.4</td>\n",
              "      <td>5.3</td>\n",
              "      <td>4.1</td>\n",
              "      <td>4.8</td>\n",
              "      <td>5.1</td>\n",
              "      <td>6.4</td>\n",
              "      <td>5.1</td>\n",
              "      <td>4.0</td>\n",
              "      <td>6.9</td>\n",
              "      <td>3.9</td>\n",
              "      <td>3.2</td>\n",
              "      <td>5.7</td>\n",
              "      <td>6.6</td>\n",
              "      <td>6.8</td>\n",
              "      <td>6.8</td>\n",
              "      <td>4.1</td>\n",
              "      <td>7.9</td>\n",
              "      <td>8.1</td>\n",
              "      <td>4.6</td>\n",
              "      <td>M</td>\n",
              "      <td>0.0</td>\n",
              "      <td>1</td>\n",
              "      <td>5.00</td>\n",
              "      <td>6.75</td>\n",
              "      <td>4.00</td>\n",
              "      <td>C</td>\n",
              "      <td>5.77</td>\n",
              "      <td>5.38</td>\n",
              "      <td>4.33</td>\n",
              "      <td>TB</td>\n",
              "      <td>TB</td>\n",
              "      <td>Y</td>\n",
              "      <td>2.308</td>\n",
              "      <td>2.152</td>\n",
              "      <td>1.732</td>\n",
              "      <td>1.0</td>\n",
              "    </tr>\n",
              "    <tr>\n",
              "      <th>97</th>\n",
              "      <td>98</td>\n",
              "      <td>8.8</td>\n",
              "      <td>5.5</td>\n",
              "      <td>7.4</td>\n",
              "      <td>7.7</td>\n",
              "      <td>6.2</td>\n",
              "      <td>7.3</td>\n",
              "      <td>8.1</td>\n",
              "      <td>4.5</td>\n",
              "      <td>9.5</td>\n",
              "      <td>7.3</td>\n",
              "      <td>6.0</td>\n",
              "      <td>8.4</td>\n",
              "      <td>7.0</td>\n",
              "      <td>8.4</td>\n",
              "      <td>8.8</td>\n",
              "      <td>6.5</td>\n",
              "      <td>9.5</td>\n",
              "      <td>6.6</td>\n",
              "      <td>6.4</td>\n",
              "      <td>7.6</td>\n",
              "      <td>7.0</td>\n",
              "      <td>9.6</td>\n",
              "      <td>9.3</td>\n",
              "      <td>6.7</td>\n",
              "      <td>8.5</td>\n",
              "      <td>6.9</td>\n",
              "      <td>5.8</td>\n",
              "      <td>8.4</td>\n",
              "      <td>8.0</td>\n",
              "      <td>8.9</td>\n",
              "      <td>9.6</td>\n",
              "      <td>7.1</td>\n",
              "      <td>9.0</td>\n",
              "      <td>7.1</td>\n",
              "      <td>6.7</td>\n",
              "      <td>5.7</td>\n",
              "      <td>6.9</td>\n",
              "      <td>8.6</td>\n",
              "      <td>8.6</td>\n",
              "      <td>5.9</td>\n",
              "      <td>8.5</td>\n",
              "      <td>7.1</td>\n",
              "      <td>6.2</td>\n",
              "      <td>8.6</td>\n",
              "      <td>7.0</td>\n",
              "      <td>9.6</td>\n",
              "      <td>8.4</td>\n",
              "      <td>5.8</td>\n",
              "      <td>M</td>\n",
              "      <td>0.0</td>\n",
              "      <td>2NT</td>\n",
              "      <td>7.00</td>\n",
              "      <td>8.00</td>\n",
              "      <td>4.00</td>\n",
              "      <td>C</td>\n",
              "      <td>7.05</td>\n",
              "      <td>7.84</td>\n",
              "      <td>7.92</td>\n",
              "      <td>K</td>\n",
              "      <td>K</td>\n",
              "      <td>K</td>\n",
              "      <td>2.820</td>\n",
              "      <td>3.136</td>\n",
              "      <td>3.168</td>\n",
              "      <td>1.0</td>\n",
              "    </tr>\n",
              "  </tbody>\n",
              "</table>\n",
              "<p>100 rows × 66 columns</p>\n",
              "</div>"
            ],
            "text/plain": [
              "    STT   T1   L1   H1   S1   V1  ...  XL2  XL3  US_TMN1  US_TMN2  US_TMN3  KQXT\n",
              "95   96  8.6  6.9  7.4  8.8  7.6  ...    K    K    2.972    2.968    2.816   0.0\n",
              "25   26  3.6  5.8  6.9  6.1  5.5  ...   TB   TB    2.160    2.080    2.008   0.0\n",
              "24   25  2.4  4.1  3.6  5.5  5.9  ...    Y   TB    1.780    1.952    2.124   0.0\n",
              "46   47  6.7  6.8  6.4  5.9  5.6  ...    K    K    2.596    2.604    2.780   0.0\n",
              "94   95  5.8  5.9  7.6  6.1  5.3  ...    K    K    2.440    2.684    2.748   0.0\n",
              "..  ...  ...  ...  ...  ...  ...  ...  ...  ...      ...      ...      ...   ...\n",
              "11   12  7.9  7.0  9.1  8.6  6.1  ...    K    K    2.972    3.088    2.996   1.0\n",
              "47   48  7.9  7.6  8.4  8.6  6.2  ...    K    K    3.068    2.996    2.904   1.0\n",
              "6     7  2.8  3.9  5.5  6.9  5.0  ...   TB   TB    1.960    2.240    2.096   1.0\n",
              "2     3  5.6  6.8  7.2  7.5  4.3  ...   TB    Y    2.308    2.152    1.732   1.0\n",
              "97   98  8.8  5.5  7.4  7.7  6.2  ...    K    K    2.820    3.136    3.168   1.0\n",
              "\n",
              "[100 rows x 66 columns]"
            ]
          },
          "metadata": {},
          "execution_count": 5
        }
      ]
    },
    {
      "cell_type": "markdown",
      "metadata": {
        "id": "PSySz6uIqhsF"
      },
      "source": [
        "3. Hãy tạo pivot-table để thống kê các giá trị count, sum, mean, median, min, max, std, Q1, Q2 và Q3 của DH1 theo KT"
      ]
    },
    {
      "cell_type": "code",
      "metadata": {
        "id": "jHh4sQ0Gqp0u"
      },
      "source": [
        "def percentile(n):\n",
        "    def percentile_(x):\n",
        "        return np.percentile(x, n)\n",
        "    percentile_.__name__ = 'percentile_%s' % n\n",
        "    return percentile_"
      ],
      "execution_count": 6,
      "outputs": []
    },
    {
      "cell_type": "code",
      "metadata": {
        "colab": {
          "base_uri": "https://localhost:8080/"
        },
        "id": "Dv99at_ZqkJF",
        "outputId": "6f86ed76-8d60-40ce-b2de-a873223aca15"
      },
      "source": [
        "import numpy as np\n",
        "table_KT = pd.pivot_table(dataframe, values='DH1', index=['KT'], aggfunc=['count', 'sum', 'median', 'min', 'max', 'std', percentile(25), percentile(50), percentile(75)])\n",
        "print(table_KT)"
      ],
      "execution_count": 7,
      "outputs": [
        {
          "output_type": "stream",
          "name": "stdout",
          "text": [
            "   count     sum median  ... percentile_25 percentile_50 percentile_75\n",
            "     DH1     DH1    DH1  ...           DH1           DH1           DH1\n",
            "KT                       ...                                          \n",
            "A     49  163.50   3.25  ...        2.2500          3.25         4.250\n",
            "A1     6   17.50   3.00  ...        2.1875          3.00         3.250\n",
            "B      9   29.50   3.50  ...        3.2500          3.50         3.750\n",
            "C     14   79.25   5.25  ...        5.0625          5.25         6.375\n",
            "D1    22   84.25   3.75  ...        3.0000          3.75         4.875\n",
            "\n",
            "[5 rows x 9 columns]\n"
          ]
        }
      ]
    },
    {
      "cell_type": "markdown",
      "metadata": {
        "id": "RgjS2fWRrhII"
      },
      "source": [
        "4. Hãy tạo pivot-table để thống kê các giá trị count, sum, mean, median, min, max, std, Q1, Q2 và Q3 của DH1 theo KT và KV\n"
      ]
    },
    {
      "cell_type": "code",
      "metadata": {
        "colab": {
          "base_uri": "https://localhost:8080/"
        },
        "id": "CEECTg_hriT6",
        "outputId": "73fef660-44f4-40a1-9d6d-f7070f892b8e"
      },
      "source": [
        "table_KT_KV = pd.pivot_table(dataframe, values='DH1', index=['KT','KV'], aggfunc=['count', 'sum', 'median', 'min', 'max', 'std', percentile(25), percentile(50), percentile(75)])\n",
        "print(table_KT_KV)"
      ],
      "execution_count": 8,
      "outputs": [
        {
          "output_type": "stream",
          "name": "stdout",
          "text": [
            "       count    sum median  ... percentile_25 percentile_50 percentile_75\n",
            "         DH1    DH1    DH1  ...           DH1           DH1           DH1\n",
            "KT KV                       ...                                          \n",
            "A  1      29  93.75  3.250  ...        2.0000         3.250        4.2500\n",
            "   2       9  31.75  3.500  ...        2.2500         3.500        4.2500\n",
            "   2NT    11  38.00  3.500  ...        2.8750         3.500        4.1250\n",
            "A1 1       2   4.75  2.375  ...        2.1875         2.375        2.5625\n",
            "   2NT     4  12.75  3.250  ...        2.9375         3.250        3.5000\n",
            "B  1       8  25.75  3.375  ...        3.0000         3.375        3.5625\n",
            "   2NT     1   3.75  3.750  ...        3.7500         3.750        3.7500\n",
            "C  1       8  43.50  5.250  ...        5.0000         5.250        5.4375\n",
            "   2       2  11.50  5.750  ...        5.3750         5.750        6.1250\n",
            "   2NT     4  24.25  6.000  ...        5.2500         6.000        6.8125\n",
            "D1 1      13  46.75  3.500  ...        2.7500         3.500        4.2500\n",
            "   2       8  33.75  4.500  ...        3.5625         4.500        5.0000\n",
            "   2NT     1   3.75  3.750  ...        3.7500         3.750        3.7500\n",
            "\n",
            "[13 rows x 9 columns]\n"
          ]
        }
      ]
    },
    {
      "cell_type": "markdown",
      "metadata": {
        "id": "dG20rJPgrwm-"
      },
      "source": [
        "5. Hãy tạo pivot-table để thống kê các giá trị count, sum, mean, median, min, max, std, Q1, Q2 và Q3 của DH1 theo KT, KV và DT\n"
      ]
    },
    {
      "cell_type": "code",
      "metadata": {
        "colab": {
          "base_uri": "https://localhost:8080/"
        },
        "id": "8UKJmYOorx-V",
        "outputId": "0e4841f9-b3c3-4cbc-dec5-67cb60689d13"
      },
      "source": [
        "table_KT_KV_DT = pd.pivot_table(dataframe, values='DH1', index=['KT', 'KV', 'DT'], aggfunc=['count', 'sum', 'mean', 'median', 'min', 'max', 'std', percentile(25), percentile(50), percentile(75)])\n",
        "print(table_KT_KV_DT)"
      ],
      "execution_count": 9,
      "outputs": [
        {
          "output_type": "stream",
          "name": "stdout",
          "text": [
            "           count    sum      mean  ... percentile_25 percentile_50 percentile_75\n",
            "             DH1    DH1       DH1  ...           DH1           DH1           DH1\n",
            "KT KV  DT                          ...                                          \n",
            "A  1   0.0    29  93.75  3.232759  ...        2.0000         3.250        4.2500\n",
            "   2   0.0     8  27.50  3.437500  ...        2.2500         3.000        4.1875\n",
            "       6.0     1   4.25  4.250000  ...        4.2500         4.250        4.2500\n",
            "   2NT 0.0    11  38.00  3.454545  ...        2.8750         3.500        4.1250\n",
            "A1 1   0.0     2   4.75  2.375000  ...        2.1875         2.375        2.5625\n",
            "   2NT 0.0     4  12.75  3.187500  ...        2.9375         3.250        3.5000\n",
            "B  1   0.0     8  25.75  3.218750  ...        3.0000         3.375        3.5625\n",
            "   2NT 0.0     1   3.75  3.750000  ...        3.7500         3.750        3.7500\n",
            "C  1   0.0     8  43.50  5.437500  ...        5.0000         5.250        5.4375\n",
            "   2   0.0     2  11.50  5.750000  ...        5.3750         5.750        6.1250\n",
            "   2NT 0.0     4  24.25  6.062500  ...        5.2500         6.000        6.8125\n",
            "D1 1   0.0    12  43.75  3.645833  ...        2.6875         3.625        4.4375\n",
            "       1.0     1   3.00  3.000000  ...        3.0000         3.000        3.0000\n",
            "   2   0.0     7  32.50  4.642857  ...        4.1250         4.500        5.0000\n",
            "       1.0     1   1.25  1.250000  ...        1.2500         1.250        1.2500\n",
            "   2NT 0.0     1   3.75  3.750000  ...        3.7500         3.750        3.7500\n",
            "\n",
            "[16 rows x 10 columns]\n"
          ]
        }
      ]
    },
    {
      "cell_type": "markdown",
      "metadata": {
        "id": "wNpqpm4JsE2m"
      },
      "source": [
        "**Phần 2:** Trình bày dữ liệu"
      ]
    },
    {
      "cell_type": "markdown",
      "metadata": {
        "id": "6YIdTPb3sUvO"
      },
      "source": [
        "1. Hãy trình bày dữ liệu biến GT"
      ]
    },
    {
      "cell_type": "code",
      "metadata": {
        "colab": {
          "base_uri": "https://localhost:8080/",
          "height": 282
        },
        "id": "QXkRATvrsVzY",
        "outputId": "b1639dcb-8090-4b75-b372-e2d9b2868881"
      },
      "source": [
        "dataframe['US_TMN1'].hist()"
      ],
      "execution_count": 10,
      "outputs": [
        {
          "output_type": "execute_result",
          "data": {
            "text/plain": [
              "<matplotlib.axes._subplots.AxesSubplot at 0x7f6d04dad590>"
            ]
          },
          "metadata": {},
          "execution_count": 10
        },
        {
          "output_type": "display_data",
          "data": {
            "image/png": "[encoded data removed]",
            "text/plain": [
              "<Figure size 432x288 with 1 Axes>"
            ]
          },
          "metadata": {
            "needs_background": "light"
          }
        }
      ]
    },
    {
      "cell_type": "markdown",
      "metadata": {
        "id": "sEV22fI3sYI1"
      },
      "source": [
        "1. Hãy trình bày dữ liệu lần lượt các biến: US_TBM1, US_TBM2 và US_TBM3\n"
      ]
    },
    {
      "cell_type": "code",
      "metadata": {
        "colab": {
          "base_uri": "https://localhost:8080/",
          "height": 282
        },
        "id": "hYcqQssKsfX-",
        "outputId": "cb536822-debb-4c4c-b576-d27de1aef8a2"
      },
      "source": [
        "dataframe['US_TMN2'].plot.area()\n"
      ],
      "execution_count": 11,
      "outputs": [
        {
          "output_type": "execute_result",
          "data": {
            "text/plain": [
              "<matplotlib.axes._subplots.AxesSubplot at 0x7f6d049dabd0>"
            ]
          },
          "metadata": {},
          "execution_count": 11
        },
        {
          "output_type": "display_data",
          "data": {
            "image/png": "[encoded data removed]",
            "text/plain": [
              "<Figure size 432x288 with 1 Axes>"
            ]
          },
          "metadata": {
            "needs_background": "light"
          }
        }
      ]
    },
    {
      "cell_type": "code",
      "metadata": {
        "colab": {
          "base_uri": "https://localhost:8080/",
          "height": 282
        },
        "id": "l4oKjSFHsg4m",
        "outputId": "47d5d718-d32b-47b5-846a-49737dd3c586"
      },
      "source": [
        "dataframe['US_TMN3'].plot.line()\n"
      ],
      "execution_count": 12,
      "outputs": [
        {
          "output_type": "execute_result",
          "data": {
            "text/plain": [
              "<matplotlib.axes._subplots.AxesSubplot at 0x7f6d044bf7d0>"
            ]
          },
          "metadata": {},
          "execution_count": 12
        },
        {
          "output_type": "display_data",
          "data": {
            "image/png": "[encoded data removed]",
            "text/plain": [
              "<Figure size 432x288 with 1 Axes>"
            ]
          },
          "metadata": {
            "needs_background": "light"
          }
        }
      ]
    },
    {
      "cell_type": "markdown",
      "metadata": {
        "id": "Ocuq9Jpgsmcl"
      },
      "source": [
        "2. Hãy trình bày dữ liệu biến DT với các học sinh là nam\n"
      ]
    },
    {
      "cell_type": "code",
      "metadata": {
        "colab": {
          "base_uri": "https://localhost:8080/",
          "height": 173
        },
        "id": "xiRRnzZpso0X",
        "outputId": "a6141a1b-c970-4f23-d206-39b24c36c0d7"
      },
      "source": [
        "dataframe[dataframe.DT.isin(['0.0', '1.0', '6.0']) & (dataframe.GT == 'M')].groupby(['DT', 'GT']).agg({'GT':'count'}).rename(columns = {'GT':'COUNT'})\n"
      ],
      "execution_count": 13,
      "outputs": [
        {
          "output_type": "execute_result",
          "data": {
            "text/html": [
              "<div>\n",
              "<style scoped>\n",
              "    .dataframe tbody tr th:only-of-type {\n",
              "        vertical-align: middle;\n",
              "    }\n",
              "\n",
              "    .dataframe tbody tr th {\n",
              "        vertical-align: top;\n",
              "    }\n",
              "\n",
              "    .dataframe thead th {\n",
              "        text-align: right;\n",
              "    }\n",
              "</style>\n",
              "<table border=\"1\" class=\"dataframe\">\n",
              "  <thead>\n",
              "    <tr style=\"text-align: right;\">\n",
              "      <th></th>\n",
              "      <th></th>\n",
              "      <th>COUNT</th>\n",
              "    </tr>\n",
              "    <tr>\n",
              "      <th>DT</th>\n",
              "      <th>GT</th>\n",
              "      <th></th>\n",
              "    </tr>\n",
              "  </thead>\n",
              "  <tbody>\n",
              "    <tr>\n",
              "      <th>0.0</th>\n",
              "      <th>M</th>\n",
              "      <td>50</td>\n",
              "    </tr>\n",
              "    <tr>\n",
              "      <th>1.0</th>\n",
              "      <th>M</th>\n",
              "      <td>1</td>\n",
              "    </tr>\n",
              "    <tr>\n",
              "      <th>6.0</th>\n",
              "      <th>M</th>\n",
              "      <td>1</td>\n",
              "    </tr>\n",
              "  </tbody>\n",
              "</table>\n",
              "</div>"
            ],
            "text/plain": [
              "        COUNT\n",
              "DT  GT       \n",
              "0.0 M      50\n",
              "1.0 M       1\n",
              "6.0 M       1"
            ]
          },
          "metadata": {},
          "execution_count": 13
        }
      ]
    },
    {
      "cell_type": "markdown",
      "metadata": {
        "id": "Av6Q8KUQtVzF"
      },
      "source": [
        "3. Hãy trình bày dữ liệu biến KV với các học sinh là nam thuộc dân tộc Kinh, có điểm thõa mãn điều kiện (DH1 >= 5.0 và DH2 >= 4.0 và DH3 >= 4.0)\n"
      ]
    },
    {
      "cell_type": "code",
      "metadata": {
        "colab": {
          "base_uri": "https://localhost:8080/",
          "height": 282
        },
        "id": "rMWrws9dtW6O",
        "outputId": "3b16be60-b6f9-4324-deb3-ec22a08653d3"
      },
      "source": [
        "dataframe.loc[(dataframe['GT'] == 'M') & (dataframe['DT'] == 0) & (dataframe['DH1'] >= 5) & (dataframe['DH2'] >= 4) & (dataframe['DH3'] >= 4)].groupby('KV')['KV'].agg(['count']).plot.pie(subplots=True,autopct='%.2f %%')"
      ],
      "execution_count": 14,
      "outputs": [
        {
          "output_type": "execute_result",
          "data": {
            "text/plain": [
              "array([<matplotlib.axes._subplots.AxesSubplot object at 0x7f6d0444a510>],\n",
              "      dtype=object)"
            ]
          },
          "metadata": {},
          "execution_count": 14
        },
        {
          "output_type": "display_data",
          "data": {
            "image/png": "[encoded data removed]",
            "text/plain": [
              "<Figure size 432x288 with 1 Axes>"
            ]
          },
          "metadata": {}
        }
      ]
    },
    {
      "cell_type": "markdown",
      "metadata": {
        "id": "lns08Wt2ncjD"
      },
      "source": [
        "4. Hãy trình bày dữ liệu lần lượt các biến DH1, DH2, DH3 lớn hơn bằng 5.0 và thuộc khu vực 2NT\n"
      ]
    },
    {
      "cell_type": "code",
      "metadata": {
        "id": "pKgiXQ5kngE6",
        "outputId": "7140c129-0774-4047-d300-8a2f0b9b97c9",
        "colab": {
          "base_uri": "https://localhost:8080/",
          "height": 296
        }
      },
      "source": [
        "dataframe['DH1'].loc[(dataframe['DH1'] >= 5) & (dataframe['KV'] == '2NT')].plot.hist(bins=20)\n",
        "plt.xlabel('DiemDH1')\n",
        "plt.ylabel('SL')\n"
      ],
      "execution_count": 19,
      "outputs": [
        {
          "output_type": "execute_result",
          "data": {
            "text/plain": [
              "Text(0, 0.5, 'SL')"
            ]
          },
          "metadata": {},
          "execution_count": 19
        },
        {
          "output_type": "display_data",
          "data": {
            "image/png": "[encoded data removed]",
            "text/plain": [
              "<Figure size 432x288 with 1 Axes>"
            ]
          },
          "metadata": {
            "needs_background": "light"
          }
        }
      ]
    },
    {
      "cell_type": "code",
      "metadata": {
        "id": "DQPgbY-Tn79U",
        "outputId": "7c254708-a3f3-4688-fd1f-232a5d292aba",
        "colab": {
          "base_uri": "https://localhost:8080/",
          "height": 296
        }
      },
      "source": [
        "dataframe['DH2'].loc[(dataframe['DH2'] >= 5) & (dataframe['KV'] == '2NT')].plot.hist(bins=20)\n",
        "plt.xlabel('DiemDH2')\n",
        "plt.ylabel('SL')"
      ],
      "execution_count": 20,
      "outputs": [
        {
          "output_type": "execute_result",
          "data": {
            "text/plain": [
              "Text(0, 0.5, 'SL')"
            ]
          },
          "metadata": {},
          "execution_count": 20
        },
        {
          "output_type": "display_data",
          "data": {
            "image/png": "[encoded data removed]",
            "text/plain": [
              "<Figure size 432x288 with 1 Axes>"
            ]
          },
          "metadata": {
            "needs_background": "light"
          }
        }
      ]
    },
    {
      "cell_type": "code",
      "metadata": {
        "id": "h39R7j_ToEGy",
        "outputId": "3cc82a5a-4c9b-4fb9-8113-4588544cce6b",
        "colab": {
          "base_uri": "https://localhost:8080/",
          "height": 296
        }
      },
      "source": [
        "dataframe['DH3'].loc[(dataframe['DH3'] >= 5) & (dataframe['KV'] == '2NT')].plot.hist(bins=20)\n",
        "plt.xlabel('DiemDH3')\n",
        "plt.ylabel('SL')"
      ],
      "execution_count": 21,
      "outputs": [
        {
          "output_type": "execute_result",
          "data": {
            "text/plain": [
              "Text(0, 0.5, 'SL')"
            ]
          },
          "metadata": {},
          "execution_count": 21
        },
        {
          "output_type": "display_data",
          "data": {
            "image/png": "[encoded data removed]",
            "text/plain": [
              "<Figure size 432x288 with 1 Axes>"
            ]
          },
          "metadata": {
            "needs_background": "light"
          }
        }
      ]
    },
    {
      "cell_type": "markdown",
      "metadata": {
        "id": "UlluxdTXoJtT"
      },
      "source": [
        "**Phần 3**: Trực quan hóa dữ liệu theo nhóm phân loại\n",
        "\n"
      ]
    },
    {
      "cell_type": "markdown",
      "metadata": {
        "id": "RFRI7M--oMIC"
      },
      "source": [
        "1. Trực quan dữ liệu học sinh nữ trên các nhóm XL1, XL2, XL3 dạng unstacked\n"
      ]
    },
    {
      "cell_type": "code",
      "metadata": {
        "id": "QOldIpiEoN4S",
        "outputId": "695ae80b-1276-488b-830b-274104588515",
        "colab": {
          "base_uri": "https://localhost:8080/",
          "height": 317
        }
      },
      "source": [
        "pd.pivot_table(dataframe.loc[dataframe['GT'] == 'F'].groupby(['XL1'])['GT'].agg(['count']),columns='XL1').plot.bar(stacked=False)\n",
        "plt.xlabel('XL1')\n",
        "plt.ylabel('SLXL')"
      ],
      "execution_count": 22,
      "outputs": [
        {
          "output_type": "execute_result",
          "data": {
            "text/plain": [
              "Text(0, 0.5, 'SLXL')"
            ]
          },
          "metadata": {},
          "execution_count": 22
        },
        {
          "output_type": "display_data",
          "data": {
            "image/png": "[encoded data removed]",
            "text/plain": [
              "<Figure size 432x288 with 1 Axes>"
            ]
          },
          "metadata": {
            "needs_background": "light"
          }
        }
      ]
    },
    {
      "cell_type": "code",
      "metadata": {
        "id": "9hnCjlQfoUL6",
        "outputId": "cbbfa8c4-31d4-4b7a-cd53-f624ef6413f6",
        "colab": {
          "base_uri": "https://localhost:8080/",
          "height": 314
        }
      },
      "source": [
        "pd.pivot_table(dataframe.loc[dataframe['GT'] == 'F'].groupby(['XL2'])['GT'].agg(['count']),columns='XL2').plot.bar(stacked=False)\n",
        "plt.xlabel('XL2')\n",
        "plt.ylabel('SLXL')"
      ],
      "execution_count": 23,
      "outputs": [
        {
          "output_type": "execute_result",
          "data": {
            "text/plain": [
              "Text(0, 0.5, 'SLXL')"
            ]
          },
          "metadata": {},
          "execution_count": 23
        },
        {
          "output_type": "display_data",
          "data": {
            "image/png": "[encoded data removed]",
            "text/plain": [
              "<Figure size 432x288 with 1 Axes>"
            ]
          },
          "metadata": {
            "needs_background": "light"
          }
        }
      ]
    },
    {
      "cell_type": "code",
      "metadata": {
        "id": "HowlDsdHoZHq",
        "outputId": "417fd80e-d226-499b-d744-fd928c12924c",
        "colab": {
          "base_uri": "https://localhost:8080/",
          "height": 314
        }
      },
      "source": [
        "pd.pivot_table(dataframe.loc[dataframe['GT'] == 'F'].groupby(['XL3'])['GT'].agg(['count']),columns='XL3').plot.bar(stacked=False)\n",
        "plt.xlabel('XL3')\n",
        "plt.ylabel('SLXL')"
      ],
      "execution_count": 24,
      "outputs": [
        {
          "output_type": "execute_result",
          "data": {
            "text/plain": [
              "Text(0, 0.5, 'SLXL')"
            ]
          },
          "metadata": {},
          "execution_count": 24
        },
        {
          "output_type": "display_data",
          "data": {
            "image/png": "[encoded data removed]",
            "text/plain": [
              "<Figure size 432x288 with 1 Axes>"
            ]
          },
          "metadata": {
            "needs_background": "light"
          }
        }
      ]
    },
    {
      "cell_type": "markdown",
      "metadata": {
        "id": "aObml8b_ofx6"
      },
      "source": [
        "2. Trực quan dữ liệu KQXT trên nhóm học sinh có khối thi A, A1, B thuộc khu vực 1, 2"
      ]
    },
    {
      "cell_type": "code",
      "metadata": {
        "id": "erbL2XHLog8L",
        "outputId": "7c6b12be-0e27-42a5-d1bf-719114787fa8",
        "colab": {
          "base_uri": "https://localhost:8080/",
          "height": 282
        }
      },
      "source": [
        "ThuocKV = dataframe.loc[(dataframe['KV'] == '1')].append(dataframe.loc[(dataframe['KV'] == '2')])\n",
        "DK_KT = ThuocKV.loc[(ThuocKV['KT'] == 'A') | (ThuocKV['KT'] == 'A1') | (ThuocKV['KT'] == 'B')]\n",
        "DK_KT.groupby('KQXT')['KT'].agg(['count']).plot.pie(subplots=True,autopct='%.2f %%')"
      ],
      "execution_count": 27,
      "outputs": [
        {
          "output_type": "execute_result",
          "data": {
            "text/plain": [
              "array([<matplotlib.axes._subplots.AxesSubplot object at 0x7f6d03ef7d50>],\n",
              "      dtype=object)"
            ]
          },
          "metadata": {},
          "execution_count": 27
        },
        {
          "output_type": "display_data",
          "data": {
            "image/png": "[encoded data removed]",
            "text/plain": [
              "<Figure size 432x288 with 1 Axes>"
            ]
          },
          "metadata": {}
        }
      ]
    },
    {
      "cell_type": "markdown",
      "metadata": {
        "id": "SEaSo29kowk6"
      },
      "source": [
        "3. Trực quan dữ liệu số lượng thí sinh từng khu vực dựa trên từng nhóm khối thi"
      ]
    },
    {
      "cell_type": "code",
      "metadata": {
        "id": "OaRlgf02oxw6",
        "outputId": "8fb682d6-5ab9-465c-bbe4-a8b63abee789",
        "colab": {
          "base_uri": "https://localhost:8080/",
          "height": 279
        }
      },
      "source": [
        "dataframe.loc[dataframe['KT'] == 'A'].groupby('KV')['KT'].agg(['count']).plot.pie(subplots=True,autopct='%.2f %%')\n",
        "plt.xlabel('KT A')"
      ],
      "execution_count": 28,
      "outputs": [
        {
          "output_type": "execute_result",
          "data": {
            "text/plain": [
              "Text(0.5, 0, 'KT A')"
            ]
          },
          "metadata": {},
          "execution_count": 28
        },
        {
          "output_type": "display_data",
          "data": {
            "image/png": "[encoded data removed]",
            "text/plain": [
              "<Figure size 432x288 with 1 Axes>"
            ]
          },
          "metadata": {}
        }
      ]
    },
    {
      "cell_type": "code",
      "metadata": {
        "id": "i_OlJi_io4VS",
        "outputId": "c8316c87-86d2-47a7-d758-d2eb811f888b",
        "colab": {
          "base_uri": "https://localhost:8080/",
          "height": 279
        }
      },
      "source": [
        "dataframe.loc[dataframe['KT'] == 'A1'].groupby('KV')['KT'].agg(['count']).plot.pie(subplots=True,autopct='%.2f %%')\n",
        "plt.xlabel('KT A1')"
      ],
      "execution_count": 29,
      "outputs": [
        {
          "output_type": "execute_result",
          "data": {
            "text/plain": [
              "Text(0.5, 0, 'KT A1')"
            ]
          },
          "metadata": {},
          "execution_count": 29
        },
        {
          "output_type": "display_data",
          "data": {
            "image/png": "[encoded data removed]",
            "text/plain": [
              "<Figure size 432x288 with 1 Axes>"
            ]
          },
          "metadata": {}
        }
      ]
    },
    {
      "cell_type": "code",
      "metadata": {
        "id": "zK9QaHFYo7sA",
        "outputId": "6f8addbd-2969-42c9-b947-5925e74deb6a",
        "colab": {
          "base_uri": "https://localhost:8080/",
          "height": 279
        }
      },
      "source": [
        "dataframe.loc[dataframe['KT'] == 'B'].groupby('KV')['KT'].agg(['count']).plot.pie(subplots=True,autopct='%.2f %%')\n",
        "plt.xlabel('KT B')"
      ],
      "execution_count": 30,
      "outputs": [
        {
          "output_type": "execute_result",
          "data": {
            "text/plain": [
              "Text(0.5, 0, 'KT B')"
            ]
          },
          "metadata": {},
          "execution_count": 30
        },
        {
          "output_type": "display_data",
          "data": {
            "image/png": "[encoded data removed]",
            "text/plain": [
              "<Figure size 432x288 with 1 Axes>"
            ]
          },
          "metadata": {}
        }
      ]
    },
    {
      "cell_type": "code",
      "metadata": {
        "id": "9jBiFBXepAzi",
        "outputId": "68189458-5c9a-4ba6-82a6-feb7a50a0bfb",
        "colab": {
          "base_uri": "https://localhost:8080/",
          "height": 279
        }
      },
      "source": [
        "\n",
        "dataframe.loc[dataframe['KT'] == 'C'].groupby('KV')['KT'].agg(['count']).plot.pie(subplots=True,autopct='%.2f %%')\n",
        "plt.xlabel('KT C')"
      ],
      "execution_count": 31,
      "outputs": [
        {
          "output_type": "execute_result",
          "data": {
            "text/plain": [
              "Text(0.5, 0, 'KT C')"
            ]
          },
          "metadata": {},
          "execution_count": 31
        },
        {
          "output_type": "display_data",
          "data": {
            "image/png": "[encoded data removed]",
            "text/plain": [
              "<Figure size 432x288 with 1 Axes>"
            ]
          },
          "metadata": {}
        }
      ]
    },
    {
      "cell_type": "code",
      "metadata": {
        "id": "5HXZvxkLpEOS",
        "outputId": "baf6c145-d3bd-4f6b-e442-2b02d21f9bdb",
        "colab": {
          "base_uri": "https://localhost:8080/",
          "height": 279
        }
      },
      "source": [
        "dataframe.loc[dataframe['KT'] == 'D1'].groupby('KV')['KT'].agg(['count']).plot.pie(subplots=True,autopct='%.2f %%')\n",
        "plt.xlabel('KT D1')"
      ],
      "execution_count": 32,
      "outputs": [
        {
          "output_type": "execute_result",
          "data": {
            "text/plain": [
              "Text(0.5, 0, 'KT D1')"
            ]
          },
          "metadata": {},
          "execution_count": 32
        },
        {
          "output_type": "display_data",
          "data": {
            "image/png": "[encoded data removed]",
            "text/plain": [
              "<Figure size 432x288 with 1 Axes>"
            ]
          },
          "metadata": {}
        }
      ]
    },
    {
      "cell_type": "markdown",
      "metadata": {
        "id": "gDC4Pk3PpIqS"
      },
      "source": [
        "4. Trực quan dữ liệu số lượng thí sinh đậu, rớt trên từng nhóm khối thi\n"
      ]
    },
    {
      "cell_type": "code",
      "metadata": {
        "id": "Kuwk5xjUpKNS",
        "outputId": "242a3770-1508-43a8-b819-f09abb08f148",
        "colab": {
          "base_uri": "https://localhost:8080/",
          "height": 282
        }
      },
      "source": [
        "dataframe.loc[dataframe['KT'] == 'A'].groupby('KQXT')['KT'].agg(['count']).plot.pie(subplots=True,autopct='%.2f %%')\n"
      ],
      "execution_count": 33,
      "outputs": [
        {
          "output_type": "execute_result",
          "data": {
            "text/plain": [
              "array([<matplotlib.axes._subplots.AxesSubplot object at 0x7f6d03e07a10>],\n",
              "      dtype=object)"
            ]
          },
          "metadata": {},
          "execution_count": 33
        },
        {
          "output_type": "display_data",
          "data": {
            "image/png": "[encoded data removed]",
            "text/plain": [
              "<Figure size 432x288 with 1 Axes>"
            ]
          },
          "metadata": {}
        }
      ]
    },
    {
      "cell_type": "code",
      "metadata": {
        "id": "uk1WQnFlpVjq",
        "outputId": "afbdfcde-cb65-4995-c2de-8ceecf60f2d7",
        "colab": {
          "base_uri": "https://localhost:8080/",
          "height": 282
        }
      },
      "source": [
        "dataframe.loc[dataframe['KT'] == 'A1'].groupby('KQXT')['KT'].agg(['count']).plot.pie(subplots=True,autopct='%.2f %%')\n"
      ],
      "execution_count": 34,
      "outputs": [
        {
          "output_type": "execute_result",
          "data": {
            "text/plain": [
              "array([<matplotlib.axes._subplots.AxesSubplot object at 0x7f6d03d34110>],\n",
              "      dtype=object)"
            ]
          },
          "metadata": {},
          "execution_count": 34
        },
        {
          "output_type": "display_data",
          "data": {
            "image/png": "[encoded data removed]",
            "text/plain": [
              "<Figure size 432x288 with 1 Axes>"
            ]
          },
          "metadata": {}
        }
      ]
    },
    {
      "cell_type": "code",
      "metadata": {
        "id": "yk7VHGl7pcEr",
        "outputId": "e0d6b3b2-a508-46e1-a006-8d0c4bd1f196",
        "colab": {
          "base_uri": "https://localhost:8080/",
          "height": 282
        }
      },
      "source": [
        "dataframe.loc[dataframe['KT'] == 'B'].groupby('KQXT')['KT'].agg(['count']).plot.pie(subplots=True,autopct='%.2f %%')\n"
      ],
      "execution_count": 35,
      "outputs": [
        {
          "output_type": "execute_result",
          "data": {
            "text/plain": [
              "array([<matplotlib.axes._subplots.AxesSubplot object at 0x7f6d03c80510>],\n",
              "      dtype=object)"
            ]
          },
          "metadata": {},
          "execution_count": 35
        },
        {
          "output_type": "display_data",
          "data": {
            "image/png": "[encoded data removed]",
            "text/plain": [
              "<Figure size 432x288 with 1 Axes>"
            ]
          },
          "metadata": {}
        }
      ]
    },
    {
      "cell_type": "code",
      "metadata": {
        "id": "VDFMarXwpgeb",
        "outputId": "04318ff4-cc26-4545-e7e7-063af24fab21",
        "colab": {
          "base_uri": "https://localhost:8080/",
          "height": 282
        }
      },
      "source": [
        "dataframe.loc[dataframe['KT'] == 'C'].groupby('KQXT')['KT'].agg(['count']).plot.pie(subplots=True,autopct='%.2f %%')\n"
      ],
      "execution_count": 36,
      "outputs": [
        {
          "output_type": "execute_result",
          "data": {
            "text/plain": [
              "array([<matplotlib.axes._subplots.AxesSubplot object at 0x7f6d03c5d810>],\n",
              "      dtype=object)"
            ]
          },
          "metadata": {},
          "execution_count": 36
        },
        {
          "output_type": "display_data",
          "data": {
            "image/png": "[encoded data removed]",
            "text/plain": [
              "<Figure size 432x288 with 1 Axes>"
            ]
          },
          "metadata": {}
        }
      ]
    },
    {
      "cell_type": "code",
      "metadata": {
        "id": "rSLxRoBkpjkS",
        "outputId": "e1eed59f-83a6-4d16-89a6-3772dc35de82",
        "colab": {
          "base_uri": "https://localhost:8080/",
          "height": 282
        }
      },
      "source": [
        "dataframe.loc[dataframe['KT'] == 'D1'].groupby('KQXT')['KT'].agg(['count']).plot.pie(subplots=True,autopct='%.2f %%')\n"
      ],
      "execution_count": 37,
      "outputs": [
        {
          "output_type": "execute_result",
          "data": {
            "text/plain": [
              "array([<matplotlib.axes._subplots.AxesSubplot object at 0x7f6d03c31d90>],\n",
              "      dtype=object)"
            ]
          },
          "metadata": {},
          "execution_count": 37
        },
        {
          "output_type": "display_data",
          "data": {
            "image/png": "[encoded data removed]",
            "text/plain": [
              "<Figure size 432x288 with 1 Axes>"
            ]
          },
          "metadata": {}
        }
      ]
    },
    {
      "cell_type": "markdown",
      "metadata": {
        "id": "_pMB5107p6Jb"
      },
      "source": [
        "5. Trực quan dữ liệu số lượng thí sinh đậu rớt trên từng nhóm khu vực.\n"
      ]
    },
    {
      "cell_type": "code",
      "metadata": {
        "id": "wmygnt3Ap78K",
        "outputId": "b8967b3e-a654-4d50-b9d7-7e78be0f02ed",
        "colab": {
          "base_uri": "https://localhost:8080/",
          "height": 265
        }
      },
      "source": [
        "dataframe.loc[dataframe['KV'] == '1'].groupby('KQXT')['KV'].agg('count').plot.pie(subplots=True,autopct='%.2f %%')\n",
        "plt.legend()"
      ],
      "execution_count": 38,
      "outputs": [
        {
          "output_type": "execute_result",
          "data": {
            "text/plain": [
              "<matplotlib.legend.Legend at 0x7f6d038dc5d0>"
            ]
          },
          "metadata": {},
          "execution_count": 38
        },
        {
          "output_type": "display_data",
          "data": {
            "image/png": "[encoded data removed]",
            "text/plain": [
              "<Figure size 432x288 with 1 Axes>"
            ]
          },
          "metadata": {}
        }
      ]
    },
    {
      "cell_type": "code",
      "metadata": {
        "id": "0Z1d_8SGqB7i",
        "outputId": "096c8c18-f76d-4cec-f08c-a56051c69c1f",
        "colab": {
          "base_uri": "https://localhost:8080/",
          "height": 282
        }
      },
      "source": [
        "dataframe.loc[dataframe['KV'] == '2'].groupby('KQXT')['KV'].agg(['count']).plot.pie(subplots=True,autopct='%.2f %%')\n"
      ],
      "execution_count": 39,
      "outputs": [
        {
          "output_type": "execute_result",
          "data": {
            "text/plain": [
              "array([<matplotlib.axes._subplots.AxesSubplot object at 0x7f6d03c29850>],\n",
              "      dtype=object)"
            ]
          },
          "metadata": {},
          "execution_count": 39
        },
        {
          "output_type": "display_data",
          "data": {
            "image/png": "[encoded data removed]",
            "text/plain": [
              "<Figure size 432x288 with 1 Axes>"
            ]
          },
          "metadata": {}
        }
      ]
    },
    {
      "cell_type": "code",
      "metadata": {
        "id": "GUDYmgacqEvT",
        "outputId": "da495055-0ff5-4888-ce16-4a93475070d3",
        "colab": {
          "base_uri": "https://localhost:8080/",
          "height": 282
        }
      },
      "source": [
        "dataframe.loc[dataframe['KV'] == '2NT'].groupby('KQXT')['KV'].agg(['count']).plot.pie(subplots=True,autopct='%.2f %%')\n"
      ],
      "execution_count": 40,
      "outputs": [
        {
          "output_type": "execute_result",
          "data": {
            "text/plain": [
              "array([<matplotlib.axes._subplots.AxesSubplot object at 0x7f6d03ec2590>],\n",
              "      dtype=object)"
            ]
          },
          "metadata": {},
          "execution_count": 40
        },
        {
          "output_type": "display_data",
          "data": {
            "image/png": "[encoded data removed]",
            "text/plain": [
              "<Figure size 432x288 with 1 Axes>"
            ]
          },
          "metadata": {}
        }
      ]
    },
    {
      "cell_type": "markdown",
      "metadata": {
        "id": "Hen0ptb4qIH8"
      },
      "source": [
        "6. Trực quan dữ liệu số lượng thí sinh đậu rớt dựa trên từng nhóm dân tộc\n"
      ]
    },
    {
      "cell_type": "code",
      "metadata": {
        "id": "ofoB_DNRqLnL",
        "outputId": "411baf45-c77b-4abc-d779-38bceb11cb01",
        "colab": {
          "base_uri": "https://localhost:8080/",
          "height": 282
        }
      },
      "source": [
        "dataframe.loc[dataframe['DT'] == 0].groupby('KQXT')['DT'].agg(['count']).plot.pie(subplots=True,autopct='%.2f %%')"
      ],
      "execution_count": 41,
      "outputs": [
        {
          "output_type": "execute_result",
          "data": {
            "text/plain": [
              "array([<matplotlib.axes._subplots.AxesSubplot object at 0x7f6d03d4b290>],\n",
              "      dtype=object)"
            ]
          },
          "metadata": {},
          "execution_count": 41
        },
        {
          "output_type": "display_data",
          "data": {
            "image/png": "[encoded data removed]",
            "text/plain": [
              "<Figure size 432x288 with 1 Axes>"
            ]
          },
          "metadata": {}
        }
      ]
    },
    {
      "cell_type": "code",
      "metadata": {
        "id": "kEQiHE9gqRqy",
        "outputId": "aa6c0427-6034-4953-9898-0545d018efbf",
        "colab": {
          "base_uri": "https://localhost:8080/",
          "height": 282
        }
      },
      "source": [
        "dataframe.loc[dataframe['DT'] == 1].groupby('KQXT')['DT'].agg(['count']).plot.pie(subplots=True,autopct='%.2f %%')\n"
      ],
      "execution_count": 42,
      "outputs": [
        {
          "output_type": "execute_result",
          "data": {
            "text/plain": [
              "array([<matplotlib.axes._subplots.AxesSubplot object at 0x7f6d0379b410>],\n",
              "      dtype=object)"
            ]
          },
          "metadata": {},
          "execution_count": 42
        },
        {
          "output_type": "display_data",
          "data": {
            "image/png": "[encoded data removed]",
            "text/plain": [
              "<Figure size 432x288 with 1 Axes>"
            ]
          },
          "metadata": {}
        }
      ]
    },
    {
      "cell_type": "code",
      "metadata": {
        "id": "PLFeGfaUqUk8",
        "outputId": "9b31d2d4-4e06-4b93-8382-5e0317aa33d1",
        "colab": {
          "base_uri": "https://localhost:8080/",
          "height": 282
        }
      },
      "source": [
        "dataframe.loc[dataframe['DT'] == 6].groupby('KQXT')['DT'].agg(['count']).plot.pie(subplots=True,autopct='%.2f %%')\n"
      ],
      "execution_count": 43,
      "outputs": [
        {
          "output_type": "execute_result",
          "data": {
            "text/plain": [
              "array([<matplotlib.axes._subplots.AxesSubplot object at 0x7f6d03654ed0>],\n",
              "      dtype=object)"
            ]
          },
          "metadata": {},
          "execution_count": 43
        },
        {
          "output_type": "display_data",
          "data": {
            "image/png": "[encoded data removed]",
            "text/plain": [
              "<Figure size 432x288 with 1 Axes>"
            ]
          },
          "metadata": {}
        }
      ]
    },
    {
      "cell_type": "markdown",
      "metadata": {
        "id": "LNsiNe_CqZ6y"
      },
      "source": [
        "7. Trực quan dữ liệu số lượng thí sinh đậu rớt dựa trên từng nhóm giới tính.\n"
      ]
    },
    {
      "cell_type": "code",
      "metadata": {
        "id": "yNCIRjL1qay6",
        "outputId": "b3b5e26a-bd48-48b0-df39-48c26878b6b1",
        "colab": {
          "base_uri": "https://localhost:8080/",
          "height": 282
        }
      },
      "source": [
        "dataframe.loc[dataframe['GT'] == 'M'].groupby('KQXT')['GT'].agg(['count']).plot.pie(subplots=True,autopct='%.2f %%')\n"
      ],
      "execution_count": 44,
      "outputs": [
        {
          "output_type": "execute_result",
          "data": {
            "text/plain": [
              "array([<matplotlib.axes._subplots.AxesSubplot object at 0x7f6d03630490>],\n",
              "      dtype=object)"
            ]
          },
          "metadata": {},
          "execution_count": 44
        },
        {
          "output_type": "display_data",
          "data": {
            "image/png": "[encoded data removed]",
            "text/plain": [
              "<Figure size 432x288 with 1 Axes>"
            ]
          },
          "metadata": {}
        }
      ]
    },
    {
      "cell_type": "code",
      "metadata": {
        "id": "nwnDbBfAqffz",
        "outputId": "0c66f9af-2280-4af8-ff36-8d901b57f32f",
        "colab": {
          "base_uri": "https://localhost:8080/",
          "height": 282
        }
      },
      "source": [
        "dataframe.loc[dataframe['GT'] == 'F'].groupby('KQXT')['GT'].agg(['count']).plot.pie(subplots=True,autopct='%.2f %%')\n"
      ],
      "execution_count": 45,
      "outputs": [
        {
          "output_type": "execute_result",
          "data": {
            "text/plain": [
              "array([<matplotlib.axes._subplots.AxesSubplot object at 0x7f6d038d1d90>],\n",
              "      dtype=object)"
            ]
          },
          "metadata": {},
          "execution_count": 45
        },
        {
          "output_type": "display_data",
          "data": {
            "image/png": "[encoded data removed]",
            "text/plain": [
              "<Figure size 432x288 with 1 Axes>"
            ]
          },
          "metadata": {}
        }
      ]
    },
    {
      "cell_type": "markdown",
      "metadata": {
        "id": "P_Lg16eYqiFD"
      },
      "source": [
        "**Phần 4:** Trực quan hóa dữ liệu nâng cao\n",
        "\n"
      ]
    },
    {
      "cell_type": "markdown",
      "metadata": {
        "id": "6C_ytcmRqjlb"
      },
      "source": [
        "1. Vẽ biểu đồ đường Simple cho biến T1\n"
      ]
    },
    {
      "cell_type": "code",
      "metadata": {
        "id": "NXR1ZHQsqlRN",
        "outputId": "be89c29a-68c3-4781-d1c6-167f5d6e0456",
        "colab": {
          "base_uri": "https://localhost:8080/",
          "height": 296
        }
      },
      "source": [
        "dataframe.groupby('T1')['T1'].agg('count').plot()\n"
      ],
      "execution_count": 46,
      "outputs": [
        {
          "output_type": "execute_result",
          "data": {
            "text/plain": [
              "<matplotlib.axes._subplots.AxesSubplot at 0x7f6d0355fe50>"
            ]
          },
          "metadata": {},
          "execution_count": 46
        },
        {
          "output_type": "display_data",
          "data": {
            "image/png": "[encoded data removed]",
            "text/plain": [
              "<Figure size 432x288 with 1 Axes>"
            ]
          },
          "metadata": {
            "needs_background": "light"
          }
        }
      ]
    },
    {
      "cell_type": "markdown",
      "metadata": {
        "id": "HNDJVet1qpG7"
      },
      "source": [
        "1. Hãy tạo biến phân loại (phanlopt1) cho môn toán (T1) như sau:\n",
        "\n",
        "a. Từ 0 đến dưới 5 = kém (ký hiệu \"k\")\n",
        "\n",
        "b. Từ 5 đến dưới 7 = trung bình (ký hiệu \"tb\")\n",
        "\n",
        "c. Từ 7 đến dưới 8 = khá (ký hiệu \"k\")\n",
        "\n",
        "d. Từ 8 trở lên = giỏi (ký hiệu \"g\")\n"
      ]
    },
    {
      "cell_type": "code",
      "metadata": {
        "id": "p49rRijsq2Tm",
        "outputId": "d5442a94-d711-4197-c303-6bb4bbc5a81f",
        "colab": {
          "base_uri": "https://localhost:8080/"
        }
      },
      "source": [
        "for i in dataframe['T1']:\n",
        "  dataframe.loc[(dataframe['T1'] >= 0) & (dataframe['T1'] < 5), 'phanlopt1'] = 'k'\n",
        "  dataframe.loc[(dataframe['T1'] >= 5) & (dataframe['T1'] < 7), 'phanlopt1'] = 'tb'\n",
        "  dataframe.loc[(dataframe['T1'] >= 7) & (dataframe['T1'] < 8), 'phanlopt1'] = 'kh'\n",
        "  dataframe.loc[(dataframe['T1'] >= 8), 'phanlopt1'] = 'g'\n",
        "print(dataframe)"
      ],
      "execution_count": 49,
      "outputs": [
        {
          "output_type": "stream",
          "name": "stdout",
          "text": [
            "    STT   T1   L1   H1   S1   V1  ...  XL3  US_TMN1  US_TMN2  US_TMN3  KQXT  phanlopt1\n",
            "0     1  7.2  7.3  6.3  7.3  7.0  ...    K    2.800    3.016    2.824   0.0         kh\n",
            "1     2  5.4  3.9  3.9  4.0  5.4  ...    Y    1.876    2.188    1.880   0.0         tb\n",
            "2     3  5.6  6.8  7.2  7.5  4.3  ...    Y    2.308    2.152    1.732   1.0         tb\n",
            "3     4  6.6  6.4  5.3  6.9  5.4  ...   TB    2.484    2.080    2.412   0.0         tb\n",
            "4     5  6.0  5.0  6.0  7.3  6.5  ...    K    2.600    2.544    2.804   0.0         tb\n",
            "..  ...  ...  ...  ...  ...  ...  ...  ...      ...      ...      ...   ...        ...\n",
            "95   96  8.6  6.9  7.4  8.8  7.6  ...    K    2.972    2.968    2.816   0.0          g\n",
            "96   97  3.7  5.4  6.0  5.1  5.5  ...    Y    1.972    2.060    1.912   0.0          k\n",
            "97   98  8.8  5.5  7.4  7.7  6.2  ...    K    2.820    3.136    3.168   1.0          g\n",
            "98   99  2.7  1.8  3.4  5.3  4.5  ...   TB    1.660    1.888    2.464   0.0          k\n",
            "99  100  4.1  5.2  4.9  5.3  5.5  ...   TB    2.104    2.288    2.360   0.0          k\n",
            "\n",
            "[100 rows x 67 columns]\n"
          ]
        }
      ]
    },
    {
      "cell_type": "markdown",
      "metadata": {
        "id": "dWKrTYUZrHrl"
      },
      "source": [
        "1. Lập bảng tần số cho biến phanloait1\n"
      ]
    },
    {
      "cell_type": "code",
      "metadata": {
        "id": "Y-yTg598rIbB",
        "outputId": "e3122659-b9e7-481a-ff3e-44996073680b",
        "colab": {
          "base_uri": "https://localhost:8080/",
          "height": 80
        }
      },
      "source": [
        "tanso_phanloait1 = dataframe.groupby('phanlopt1')['phanlopt1'].agg(['count'])\n",
        "pd.pivot_table(tanso_phanloait1,columns='phanlopt1')"
      ],
      "execution_count": 50,
      "outputs": [
        {
          "output_type": "execute_result",
          "data": {
            "text/html": [
              "<div>\n",
              "<style scoped>\n",
              "    .dataframe tbody tr th:only-of-type {\n",
              "        vertical-align: middle;\n",
              "    }\n",
              "\n",
              "    .dataframe tbody tr th {\n",
              "        vertical-align: top;\n",
              "    }\n",
              "\n",
              "    .dataframe thead th {\n",
              "        text-align: right;\n",
              "    }\n",
              "</style>\n",
              "<table border=\"1\" class=\"dataframe\">\n",
              "  <thead>\n",
              "    <tr style=\"text-align: right;\">\n",
              "      <th>phanlopt1</th>\n",
              "      <th>g</th>\n",
              "      <th>k</th>\n",
              "      <th>kh</th>\n",
              "      <th>tb</th>\n",
              "    </tr>\n",
              "  </thead>\n",
              "  <tbody>\n",
              "    <tr>\n",
              "      <th>count</th>\n",
              "      <td>12</td>\n",
              "      <td>23</td>\n",
              "      <td>19</td>\n",
              "      <td>46</td>\n",
              "    </tr>\n",
              "  </tbody>\n",
              "</table>\n",
              "</div>"
            ],
            "text/plain": [
              "phanlopt1   g   k  kh  tb\n",
              "count      12  23  19  46"
            ]
          },
          "metadata": {},
          "execution_count": 50
        }
      ]
    },
    {
      "cell_type": "markdown",
      "metadata": {
        "id": "MncobHn8rOT0"
      },
      "source": [
        "2. Vẽ biểu đồ đường Multiple Line cho biến T1 được phân loại bởi biến phanlopt1\n"
      ]
    },
    {
      "cell_type": "code",
      "metadata": {
        "id": "fKpR-Dm8rOyM",
        "outputId": "e6178790-5df1-4d44-d2b7-d3ba202cae68",
        "colab": {
          "base_uri": "https://localhost:8080/",
          "height": 296
        }
      },
      "source": [
        "sales1 = dataframe['T1'].loc[dataframe['phanlopt1'] == 'k']\n",
        "sales2 = dataframe['T1'].loc[dataframe['phanlopt1'] == 'tb']\n",
        "sales3 = dataframe['T1'].loc[dataframe['phanlopt1'] == 'kh']\n",
        "sales4 = dataframe['T1'].loc[dataframe['phanlopt1'] == 'g']\n",
        "dataframe.groupby(sales1)['phanlopt1'].agg('count').plot(label=\"k\")\n",
        "dataframe.groupby(sales2)['phanlopt1'].agg('count').plot(label=\"tb\")\n",
        "dataframe.groupby(sales3)['phanlopt1'].agg('count').plot(label=\"kh\")\n",
        "dataframe.groupby(sales4)['phanlopt1'].agg('count').plot(label=\"g\")\n",
        "plt.legend()"
      ],
      "execution_count": 51,
      "outputs": [
        {
          "output_type": "execute_result",
          "data": {
            "text/plain": [
              "<matplotlib.legend.Legend at 0x7f6d0379bd90>"
            ]
          },
          "metadata": {},
          "execution_count": 51
        },
        {
          "output_type": "display_data",
          "data": {
            "image/png": "[encoded data removed]",
            "text/plain": [
              "<Figure size 432x288 with 1 Axes>"
            ]
          },
          "metadata": {
            "needs_background": "light"
          }
        }
      ]
    },
    {
      "cell_type": "markdown",
      "metadata": {
        "id": "G6h75oafr9VO"
      },
      "source": [
        "**Phần 5:** Mô tả dữ liệu và khảo sát dạng phân phối\n",
        "\n"
      ]
    },
    {
      "cell_type": "markdown",
      "metadata": {
        "id": "M_TAtwWosC68"
      },
      "source": [
        "1. Hãy mô tả và khảo sát phân phối cho biến T1\n"
      ]
    },
    {
      "cell_type": "code",
      "metadata": {
        "id": "83kDRZSMr7jz",
        "outputId": "456c08af-de51-45b7-a391-fd0746c3c932",
        "colab": {
          "base_uri": "https://localhost:8080/",
          "height": 282
        }
      },
      "source": [
        "dataframe['T1'].plot.box()\n"
      ],
      "execution_count": 53,
      "outputs": [
        {
          "output_type": "execute_result",
          "data": {
            "text/plain": [
              "<matplotlib.axes._subplots.AxesSubplot at 0x7f6d03412350>"
            ]
          },
          "metadata": {},
          "execution_count": 53
        },
        {
          "output_type": "display_data",
          "data": {
            "image/png": "[encoded data removed]",
            "text/plain": [
              "<Figure size 432x288 with 1 Axes>"
            ]
          },
          "metadata": {
            "needs_background": "light"
          }
        }
      ]
    },
    {
      "cell_type": "code",
      "metadata": {
        "id": "qMomp_KKsIVa",
        "outputId": "bfc018df-7cc0-47d4-ba8a-f6753bd44850",
        "colab": {
          "base_uri": "https://localhost:8080/",
          "height": 296
        }
      },
      "source": [
        "dataframe['T1'].plot.hist()\n",
        "plt.xlabel('T1')"
      ],
      "execution_count": 54,
      "outputs": [
        {
          "output_type": "execute_result",
          "data": {
            "text/plain": [
              "Text(0.5, 0, 'T1')"
            ]
          },
          "metadata": {},
          "execution_count": 54
        },
        {
          "output_type": "display_data",
          "data": {
            "image/png": "[encoded data removed]",
            "text/plain": [
              "<Figure size 432x288 with 1 Axes>"
            ]
          },
          "metadata": {
            "needs_background": "light"
          }
        }
      ]
    },
    {
      "cell_type": "markdown",
      "metadata": {
        "id": "l23fr7x1sKw6"
      },
      "source": [
        "1. Hãy mô tả và khảo sát phân phối cho biến T1 trên từng nhóm phân lớp (phanlopt1)"
      ]
    },
    {
      "cell_type": "code",
      "metadata": {
        "id": "B50TdpIEsLnS",
        "outputId": "8257f76f-1efd-4ba7-901a-cdea2d754ef8",
        "colab": {
          "base_uri": "https://localhost:8080/",
          "height": 282
        }
      },
      "source": [
        "dataframe.groupby('phanlopt1')['phanlopt1'].agg(['count']).plot.box()\n"
      ],
      "execution_count": 55,
      "outputs": [
        {
          "output_type": "execute_result",
          "data": {
            "text/plain": [
              "<matplotlib.axes._subplots.AxesSubplot at 0x7f6d0338cdd0>"
            ]
          },
          "metadata": {},
          "execution_count": 55
        },
        {
          "output_type": "display_data",
          "data": {
            "image/png": "[encoded data removed]",
            "text/plain": [
              "<Figure size 432x288 with 1 Axes>"
            ]
          },
          "metadata": {
            "needs_background": "light"
          }
        }
      ]
    },
    {
      "cell_type": "code",
      "metadata": {
        "id": "OP9RmCbXsQMy",
        "outputId": "aa1df101-b512-4ce4-b285-6fe6ef4cbbb0",
        "colab": {
          "base_uri": "https://localhost:8080/",
          "height": 282
        }
      },
      "source": [
        "pd.pivot_table(dataframe.groupby('phanlopt1')['phanlopt1'].agg(['count']),columns='phanlopt1').plot.hist()\n",
        "plt.legend()"
      ],
      "execution_count": 56,
      "outputs": [
        {
          "output_type": "execute_result",
          "data": {
            "text/plain": [
              "<matplotlib.legend.Legend at 0x7f6d0330fd50>"
            ]
          },
          "metadata": {},
          "execution_count": 56
        },
        {
          "output_type": "display_data",
          "data": {
            "image/png": "[encoded data removed]",
            "text/plain": [
              "<Figure size 432x288 with 1 Axes>"
            ]
          },
          "metadata": {
            "needs_background": "light"
          }
        }
      ]
    },
    {
      "cell_type": "markdown",
      "metadata": {
        "id": "WAYli3aTsWNU"
      },
      "source": [
        "1. Hãy khảo sát tương quan giữa biến DH1 theo biến T1\n"
      ]
    },
    {
      "cell_type": "code",
      "metadata": {
        "id": "Zb7QKPUwsX7w",
        "outputId": "e54bd55b-bd25-4368-f6f6-3595480569e0",
        "colab": {
          "base_uri": "https://localhost:8080/",
          "height": 279
        }
      },
      "source": [
        "import statsmodels.api as sm\n",
        "sm.qqplot(dataframe.groupby('phanlopt1')['phanlopt1'].agg(['count']), line ='45')\n",
        "plt.show()"
      ],
      "execution_count": 58,
      "outputs": [
        {
          "output_type": "display_data",
          "data": {
            "image/png": "[encoded data removed]",
            "text/plain": [
              "<Figure size 432x288 with 1 Axes>"
            ]
          },
          "metadata": {
            "needs_background": "light"
          }
        }
      ]
    },
    {
      "cell_type": "code",
      "metadata": {
        "id": "N0RGkvpfsgvy",
        "outputId": "bd703975-4bd3-46bb-da41-11cbac88ec58",
        "colab": {
          "base_uri": "https://localhost:8080/",
          "height": 296
        }
      },
      "source": [
        "dataframe.plot.scatter(x = 'DH1', y = 'T1')\n"
      ],
      "execution_count": 60,
      "outputs": [
        {
          "output_type": "execute_result",
          "data": {
            "text/plain": [
              "<matplotlib.axes._subplots.AxesSubplot at 0x7f6ce599f1d0>"
            ]
          },
          "metadata": {},
          "execution_count": 60
        },
        {
          "output_type": "display_data",
          "data": {
            "image/png": "[encoded data removed]",
            "text/plain": [
              "<Figure size 432x288 with 1 Axes>"
            ]
          },
          "metadata": {
            "needs_background": "light"
          }
        }
      ]
    },
    {
      "cell_type": "markdown",
      "metadata": {
        "id": "ZH1GVnd-snMr"
      },
      "source": [
        "1. Hãy khảo sát tương quan giữa biến DH1 theo biến T1 trên từng nhóm khu vực\n"
      ]
    },
    {
      "cell_type": "code",
      "metadata": {
        "id": "iB4mANhPspZm",
        "outputId": "00784240-c28e-4477-ca33-eb2ce60719f6",
        "colab": {
          "base_uri": "https://localhost:8080/",
          "height": 296
        }
      },
      "source": [
        "dataframe.loc[dataframe['KV'] == '1'].plot.scatter(x = 'DH1', y = 'T1')\n"
      ],
      "execution_count": 62,
      "outputs": [
        {
          "output_type": "execute_result",
          "data": {
            "text/plain": [
              "<matplotlib.axes._subplots.AxesSubplot at 0x7f6ce590c310>"
            ]
          },
          "metadata": {},
          "execution_count": 62
        },
        {
          "output_type": "display_data",
          "data": {
            "image/png": "[encoded data removed]",
            "text/plain": [
              "<Figure size 432x288 with 1 Axes>"
            ]
          },
          "metadata": {
            "needs_background": "light"
          }
        }
      ]
    },
    {
      "cell_type": "code",
      "metadata": {
        "id": "Vn8prb6Wsvzz",
        "outputId": "5e6b024e-8290-4b00-9a29-ef7fd80d1e1e",
        "colab": {
          "base_uri": "https://localhost:8080/",
          "height": 296
        }
      },
      "source": [
        "dataframe.loc[dataframe['KV'] == '2'].plot.scatter(x = 'DH1', y = 'T1')\n"
      ],
      "execution_count": 63,
      "outputs": [
        {
          "output_type": "execute_result",
          "data": {
            "text/plain": [
              "<matplotlib.axes._subplots.AxesSubplot at 0x7f6ce58f4f50>"
            ]
          },
          "metadata": {},
          "execution_count": 63
        },
        {
          "output_type": "display_data",
          "data": {
            "image/png": "[encoded data removed]",
            "text/plain": [
              "<Figure size 432x288 with 1 Axes>"
            ]
          },
          "metadata": {
            "needs_background": "light"
          }
        }
      ]
    },
    {
      "cell_type": "code",
      "metadata": {
        "id": "MEUNjMZksyjm",
        "outputId": "03e92171-f149-4ba3-a9cb-1e3d4198627c",
        "colab": {
          "base_uri": "https://localhost:8080/",
          "height": 299
        }
      },
      "source": [
        "dataframe.loc[dataframe['KV'] == '2NT'].plot.scatter(x = 'DH1', y = 'T1')\n"
      ],
      "execution_count": 64,
      "outputs": [
        {
          "output_type": "execute_result",
          "data": {
            "text/plain": [
              "<matplotlib.axes._subplots.AxesSubplot at 0x7f6ce584dd50>"
            ]
          },
          "metadata": {},
          "execution_count": 64
        },
        {
          "output_type": "display_data",
          "data": {
            "image/png": "[encoded data removed]",
            "text/plain": [
              "<Figure size 432x288 with 1 Axes>"
            ]
          },
          "metadata": {
            "needs_background": "light"
          }
        }
      ]
    },
    {
      "cell_type": "markdown",
      "metadata": {
        "id": "mrP5FYoDssQb"
      },
      "source": [
        "2. Hãy khảo sát tương quan giữa các biến DH1, DH2, DH3\n"
      ]
    },
    {
      "cell_type": "code",
      "metadata": {
        "id": "tmesjH80stos",
        "outputId": "99f4e585-cbae-4e40-b43d-9ea2b7f543da",
        "colab": {
          "base_uri": "https://localhost:8080/",
          "height": 296
        }
      },
      "source": [
        "dataframe.plot.scatter(x = 'DH1', y = 'DH2')\n"
      ],
      "execution_count": 65,
      "outputs": [
        {
          "output_type": "execute_result",
          "data": {
            "text/plain": [
              "<matplotlib.axes._subplots.AxesSubplot at 0x7f6ce57d0510>"
            ]
          },
          "metadata": {},
          "execution_count": 65
        },
        {
          "output_type": "display_data",
          "data": {
            "image/png": "[encoded data removed]",
            "text/plain": [
              "<Figure size 432x288 with 1 Axes>"
            ]
          },
          "metadata": {
            "needs_background": "light"
          }
        }
      ]
    },
    {
      "cell_type": "code",
      "metadata": {
        "id": "BqjTxYb1tIkI",
        "outputId": "0d0bacaa-15c9-41d8-a463-08b3044fe374",
        "colab": {
          "base_uri": "https://localhost:8080/",
          "height": 296
        }
      },
      "source": [
        "dataframe.plot.scatter(x = 'DH1', y = 'DH3')\n"
      ],
      "execution_count": 66,
      "outputs": [
        {
          "output_type": "execute_result",
          "data": {
            "text/plain": [
              "<matplotlib.axes._subplots.AxesSubplot at 0x7f6ce57bbf90>"
            ]
          },
          "metadata": {},
          "execution_count": 66
        },
        {
          "output_type": "display_data",
          "data": {
            "image/png": "[encoded data removed]",
            "text/plain": [
              "<Figure size 432x288 with 1 Axes>"
            ]
          },
          "metadata": {
            "needs_background": "light"
          }
        }
      ]
    },
    {
      "cell_type": "code",
      "metadata": {
        "id": "Duin6ZDYtMV7",
        "outputId": "ac4f11c5-5878-4be4-d8ec-89b6dcde6b4b",
        "colab": {
          "base_uri": "https://localhost:8080/",
          "height": 296
        }
      },
      "source": [
        "dataframe.plot.scatter(x = 'DH2', y = 'DH3')\n"
      ],
      "execution_count": 67,
      "outputs": [
        {
          "output_type": "execute_result",
          "data": {
            "text/plain": [
              "<matplotlib.axes._subplots.AxesSubplot at 0x7f6ce5722fd0>"
            ]
          },
          "metadata": {},
          "execution_count": 67
        },
        {
          "output_type": "display_data",
          "data": {
            "image/png": "[encoded data removed]",
            "text/plain": [
              "<Figure size 432x288 with 1 Axes>"
            ]
          },
          "metadata": {
            "needs_background": "light"
          }
        }
      ]
    }
  ]
}
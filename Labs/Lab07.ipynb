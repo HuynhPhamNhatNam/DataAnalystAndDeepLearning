{
  "nbformat": 4,
  "nbformat_minor": 0,
  "metadata": {
    "colab": {
      "name": "Untitled3.ipynb",
      "provenance": [],
      "authorship_tag": "ABX9TyO9BTlJEKnaPqAIMMTPJtBi",
      "include_colab_link": true
    },
    "kernelspec": {
      "name": "python3",
      "display_name": "Python 3"
    },
    "language_info": {
      "name": "python"
    }
  },
  "cells": [
    {
      "cell_type": "markdown",
      "metadata": {
        "id": "view-in-github",
        "colab_type": "text"
      },
      "source": [
        "<a href=\"https://colab.research.google.com/github/HuynhPhamNhatNam/DataAnalystAndDeepLearning/blob/main/Labs/Lab07.ipynb\" target=\"_parent\"><img src=\"https://colab.research.google.com/assets/colab-badge.svg\" alt=\"Open In Colab\"/></a>"
      ]
    },
    {
      "cell_type": "markdown",
      "metadata": {
        "id": "2Mrj5DMrL5q9"
      },
      "source": [
        "# **Thực hiện bài nhận dạng chữ viết tay với thư viện Keras.**\n"
      ]
    },
    {
      "cell_type": "code",
      "metadata": {
        "id": "DlfNJQasL2fC"
      },
      "source": [
        "import numpy as np\n",
        "import matplotlib.pyplot as plt \n",
        "import random\n",
        "from keras.datasets import mnist\n",
        "from keras.models import Sequential\n",
        "from keras.utils import np_utils\n",
        "from keras.layers.core import Dense, Activation"
      ],
      "execution_count": 1,
      "outputs": []
    },
    {
      "cell_type": "code",
      "metadata": {
        "colab": {
          "base_uri": "https://localhost:8080/"
        },
        "id": "hR8YqnNzMGl5",
        "outputId": "b11eae11-685a-4c73-872d-9ced60c3a653"
      },
      "source": [
        "(x_train,y_train),(x_test,y_test) = mnist.load_data()\n",
        "print(\"x_train shape\", x_train.shape)"
      ],
      "execution_count": 2,
      "outputs": [
        {
          "output_type": "stream",
          "name": "stdout",
          "text": [
            "Downloading data from https://storage.googleapis.com/tensorflow/tf-keras-datasets/mnist.npz\n",
            "11493376/11490434 [==============================] - 0s 0us/step\n",
            "11501568/11490434 [==============================] - 0s 0us/step\n",
            "x_train shape (60000, 28, 28)\n"
          ]
        }
      ]
    },
    {
      "cell_type": "code",
      "metadata": {
        "colab": {
          "base_uri": "https://localhost:8080/",
          "height": 657
        },
        "id": "DqPlNMi-MIJZ",
        "outputId": "4339d616-ec25-46dd-a838-392d5c966995"
      },
      "source": [
        "plt.rcParams['figure.figsize']=(9,9)\n",
        "for i in range(9):\n",
        "  plt.subplot(3, 3, i+1)\n",
        "  num=random.randint(0, len(x_train))\n",
        "  plt.imshow(x_train[num], cmap = 'gray', interpolation=None)\n",
        "  plt.title('Class {}'.format(y_train[num]))\n",
        "plt.tight_layout()"
      ],
      "execution_count": 3,
      "outputs": [
        {
          "output_type": "display_data",
          "data": {
            "image/png": "[encoded data removed]",
            "text/plain": [
              "<Figure size 648x648 with 9 Axes>"
            ]
          },
          "metadata": {
            "needs_background": "light"
          }
        }
      ]
    },
    {
      "cell_type": "code",
      "metadata": {
        "id": "IAeVrglvMJgK"
      },
      "source": [
        "x_train = x_train.reshape(60000,784)\n",
        "x_train = x_train.astype('float32')\n",
        "x_train /= 255"
      ],
      "execution_count": 4,
      "outputs": []
    },
    {
      "cell_type": "code",
      "metadata": {
        "colab": {
          "base_uri": "https://localhost:8080/"
        },
        "id": "NILHiofAMKdB",
        "outputId": "bcc0febb-f6bf-44ec-f124-de939df7d81a"
      },
      "source": [
        "x_test = x_test.reshape(10000,784)\n",
        "x_test = x_test.astype('float32')\n",
        "x_test /= 255\n",
        "print(x_test)"
      ],
      "execution_count": 5,
      "outputs": [
        {
          "output_type": "stream",
          "name": "stdout",
          "text": [
            "[[0. 0. 0. ... 0. 0. 0.]\n",
            " [0. 0. 0. ... 0. 0. 0.]\n",
            " [0. 0. 0. ... 0. 0. 0.]\n",
            " ...\n",
            " [0. 0. 0. ... 0. 0. 0.]\n",
            " [0. 0. 0. ... 0. 0. 0.]\n",
            " [0. 0. 0. ... 0. 0. 0.]]\n"
          ]
        }
      ]
    },
    {
      "cell_type": "code",
      "metadata": {
        "id": "trEnRGivMLpC"
      },
      "source": [
        "nb_class = 10\n",
        "y_train=np_utils.to_categorical(y_train,nb_class)\n",
        "y_test=np_utils.to_categorical(y_test,nb_class)"
      ],
      "execution_count": 6,
      "outputs": []
    },
    {
      "cell_type": "code",
      "metadata": {
        "colab": {
          "base_uri": "https://localhost:8080/"
        },
        "id": "lwcn2PSYMM0x",
        "outputId": "af28c9c4-d2c7-4bae-bc01-584ac40cbd30"
      },
      "source": [
        "model = Sequential()\n",
        "\n",
        "model.add(Dense(10, input_shape=(784, )))\n",
        "model.add(Activation('relu'))\n",
        "\n",
        "model.add(Dense(40))\n",
        "model.add(Activation('relu'))\n",
        "\n",
        "model.add(Dense(10))\n",
        "\n",
        "model.add(Activation('softmax'))\n",
        "model.summary()"
      ],
      "execution_count": 7,
      "outputs": [
        {
          "output_type": "stream",
          "name": "stdout",
          "text": [
            "Model: \"sequential\"\n",
            "_________________________________________________________________\n",
            "Layer (type)                 Output Shape              Param #   \n",
            "=================================================================\n",
            "dense (Dense)                (None, 10)                7850      \n",
            "_________________________________________________________________\n",
            "activation (Activation)      (None, 10)                0         \n",
            "_________________________________________________________________\n",
            "dense_1 (Dense)              (None, 40)                440       \n",
            "_________________________________________________________________\n",
            "activation_1 (Activation)    (None, 40)                0         \n",
            "_________________________________________________________________\n",
            "dense_2 (Dense)              (None, 10)                410       \n",
            "_________________________________________________________________\n",
            "activation_2 (Activation)    (None, 10)                0         \n",
            "=================================================================\n",
            "Total params: 8,700\n",
            "Trainable params: 8,700\n",
            "Non-trainable params: 0\n",
            "_________________________________________________________________\n"
          ]
        }
      ]
    },
    {
      "cell_type": "code",
      "metadata": {
        "colab": {
          "base_uri": "https://localhost:8080/"
        },
        "id": "mEI6xFWLMSGL",
        "outputId": "3bc9cd41-cc37-4b16-aa22-99e208e4d3ae"
      },
      "source": [
        "model.compile(loss = 'categorical_crossentropy', optimizer='rmsprop', metrics=['accuracy'])\n",
        "\n",
        "model.fit(x_train, y_train, batch_size=128, epochs=5)"
      ],
      "execution_count": 8,
      "outputs": [
        {
          "output_type": "stream",
          "name": "stdout",
          "text": [
            "Epoch 1/5\n",
            "469/469 [==============================] - 2s 2ms/step - loss: 0.6407 - accuracy: 0.8173\n",
            "Epoch 2/5\n",
            "469/469 [==============================] - 1s 2ms/step - loss: 0.2964 - accuracy: 0.9157\n",
            "Epoch 3/5\n",
            "469/469 [==============================] - 1s 2ms/step - loss: 0.2568 - accuracy: 0.9258\n",
            "Epoch 4/5\n",
            "469/469 [==============================] - 1s 2ms/step - loss: 0.2327 - accuracy: 0.9334\n",
            "Epoch 5/5\n",
            "469/469 [==============================] - 1s 2ms/step - loss: 0.2158 - accuracy: 0.9377\n"
          ]
        },
        {
          "output_type": "execute_result",
          "data": {
            "text/plain": [
              "<keras.callbacks.History at 0x7f2b901d4510>"
            ]
          },
          "metadata": {},
          "execution_count": 8
        }
      ]
    },
    {
      "cell_type": "code",
      "metadata": {
        "id": "EMVW5pO9MTsS"
      },
      "source": [
        "predicted_classes = model.predict(x_test)\n"
      ],
      "execution_count": 9,
      "outputs": []
    },
    {
      "cell_type": "code",
      "metadata": {
        "colab": {
          "base_uri": "https://localhost:8080/",
          "height": 657
        },
        "id": "KtYI7Vl7MU3K",
        "outputId": "c19e68af-296a-4225-e034-e12d9822cb5a"
      },
      "source": [
        "plt.rcParams['figure.figsize']=(9,9)\n",
        "for i in range(9):\n",
        "  plt.subplot(3, 3, i+1)\n",
        "  num=random.randint(0, len(x_test))\n",
        "  plt.imshow(x_test[num].reshape(28,28), cmap = 'gray', interpolation = None)\n",
        "  plt.title('Class {}'.format(predicted_classes[num].argmax()))\n",
        "plt.tight_layout()"
      ],
      "execution_count": 10,
      "outputs": [
        {
          "output_type": "display_data",
          "data": {
            "image/png": "[encoded data removed]",
            "text/plain": [
              "<Figure size 648x648 with 9 Axes>"
            ]
          },
          "metadata": {
            "needs_background": "light"
          }
        }
      ]
    }
  ]
}